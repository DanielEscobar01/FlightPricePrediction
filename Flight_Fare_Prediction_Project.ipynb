{
  "nbformat": 4,
  "nbformat_minor": 0,
  "metadata": {
    "colab": {
      "name": "Flight Fare Prediction Project.ipynb",
      "provenance": [],
      "collapsed_sections": [],
      "include_colab_link": true
    },
    "kernelspec": {
      "name": "python3",
      "display_name": "Python 3"
    },
    "language_info": {
      "name": "python"
    }
  },
  "cells": [
    {
      "cell_type": "markdown",
      "metadata": {
        "id": "view-in-github",
        "colab_type": "text"
      },
      "source": [
        "<a href=\"https://colab.research.google.com/github/DanielEscobar01/FlightPricePrediction/blob/main/Flight_Fare_Prediction_Project.ipynb\" target=\"_parent\"><img src=\"https://colab.research.google.com/assets/colab-badge.svg\" alt=\"Open In Colab\"/></a>"
      ]
    },
    {
      "cell_type": "markdown",
      "metadata": {
        "id": "PTVuzvCAyTDJ"
      },
      "source": [
        "# **THE MACHINE LEARNING PROBLEM**\n",
        "\n",
        "**DESCRIPTION OF THE PROBLEM**\n",
        "\n",
        "\n",
        "During these times the aviation industry has been growing despite the closures of borders due to the pandemic, this has led people to look for apps to get flights as cheap as possible. In this case, we have focused on a database with flights in the Republic of India, with which we intend to create a predictive regression model to estimate the value of a ticket as accurately as possible. It is important to clarify that the purpose is to estimate the price of the plane ticket, not its rise or fall.\n"
      ]
    },
    {
      "cell_type": "markdown",
      "metadata": {
        "id": "2V-A3wcVybc2"
      },
      "source": [
        "# **VARIABLES** \n",
        "\n",
        "In this database we can find the following variables: \n",
        "\n",
        "- **Airline** (Categorical)\n",
        "- **Date** \n",
        "- **Origin** (Categorical)\n",
        "- **Destination** (Categorical)\n",
        "- **Departure** Time (It is not the take off time, this means the time when the airplane leaves the gate)\n",
        "- **Arrival** **Time**\n",
        "- **Duration**\n",
        "- **Total** **Stops** (Categorical)\n",
        "- **Additional** **Information** (Categorical)\n",
        "- **Price** (Dependent Variable)\n",
        "\n",
        "\n"
      ]
    },
    {
      "cell_type": "code",
      "metadata": {
        "colab": {
          "base_uri": "https://localhost:8080/",
          "height": 206
        },
        "id": "py7fHPzN0Qy7",
        "outputId": "d137c055-5b02-4249-8377-047187de961c"
      },
      "source": [
        "import pandas as pd                                                 ## Import pandas library\n",
        "dataframe = pd.read_excel(\"Data_Train.xlsx\")                        ## Creating the dataframe from dataset (xlsx)\n",
        "dataframe.head()                                                    ## Looking for the first 5 rows of the dataset"
      ],
      "execution_count": null,
      "outputs": [
        {
          "output_type": "execute_result",
          "data": {
            "text/html": [
              "<div>\n",
              "<style scoped>\n",
              "    .dataframe tbody tr th:only-of-type {\n",
              "        vertical-align: middle;\n",
              "    }\n",
              "\n",
              "    .dataframe tbody tr th {\n",
              "        vertical-align: top;\n",
              "    }\n",
              "\n",
              "    .dataframe thead th {\n",
              "        text-align: right;\n",
              "    }\n",
              "</style>\n",
              "<table border=\"1\" class=\"dataframe\">\n",
              "  <thead>\n",
              "    <tr style=\"text-align: right;\">\n",
              "      <th></th>\n",
              "      <th>Airline</th>\n",
              "      <th>Date_of_Journey</th>\n",
              "      <th>Source</th>\n",
              "      <th>Destination</th>\n",
              "      <th>Route</th>\n",
              "      <th>Dep_Time</th>\n",
              "      <th>Arrival_Time</th>\n",
              "      <th>Duration</th>\n",
              "      <th>Total_Stops</th>\n",
              "      <th>Additional_Info</th>\n",
              "      <th>Price</th>\n",
              "    </tr>\n",
              "  </thead>\n",
              "  <tbody>\n",
              "    <tr>\n",
              "      <th>0</th>\n",
              "      <td>IndiGo</td>\n",
              "      <td>24/03/2019</td>\n",
              "      <td>Banglore</td>\n",
              "      <td>New Delhi</td>\n",
              "      <td>BLR → DEL</td>\n",
              "      <td>22:20</td>\n",
              "      <td>01:10 22 Mar</td>\n",
              "      <td>2h 50m</td>\n",
              "      <td>non-stop</td>\n",
              "      <td>No info</td>\n",
              "      <td>3897</td>\n",
              "    </tr>\n",
              "    <tr>\n",
              "      <th>1</th>\n",
              "      <td>Air India</td>\n",
              "      <td>1/05/2019</td>\n",
              "      <td>Kolkata</td>\n",
              "      <td>Banglore</td>\n",
              "      <td>CCU → IXR → BBI → BLR</td>\n",
              "      <td>05:50</td>\n",
              "      <td>13:15</td>\n",
              "      <td>7h 25m</td>\n",
              "      <td>2 stops</td>\n",
              "      <td>No info</td>\n",
              "      <td>7662</td>\n",
              "    </tr>\n",
              "    <tr>\n",
              "      <th>2</th>\n",
              "      <td>Jet Airways</td>\n",
              "      <td>9/06/2019</td>\n",
              "      <td>Delhi</td>\n",
              "      <td>Cochin</td>\n",
              "      <td>DEL → LKO → BOM → COK</td>\n",
              "      <td>09:25</td>\n",
              "      <td>04:25 10 Jun</td>\n",
              "      <td>19h</td>\n",
              "      <td>2 stops</td>\n",
              "      <td>No info</td>\n",
              "      <td>13882</td>\n",
              "    </tr>\n",
              "    <tr>\n",
              "      <th>3</th>\n",
              "      <td>IndiGo</td>\n",
              "      <td>12/05/2019</td>\n",
              "      <td>Kolkata</td>\n",
              "      <td>Banglore</td>\n",
              "      <td>CCU → NAG → BLR</td>\n",
              "      <td>18:05</td>\n",
              "      <td>23:30</td>\n",
              "      <td>5h 25m</td>\n",
              "      <td>1 stop</td>\n",
              "      <td>No info</td>\n",
              "      <td>6218</td>\n",
              "    </tr>\n",
              "    <tr>\n",
              "      <th>4</th>\n",
              "      <td>IndiGo</td>\n",
              "      <td>01/03/2019</td>\n",
              "      <td>Banglore</td>\n",
              "      <td>New Delhi</td>\n",
              "      <td>BLR → NAG → DEL</td>\n",
              "      <td>16:50</td>\n",
              "      <td>21:35</td>\n",
              "      <td>4h 45m</td>\n",
              "      <td>1 stop</td>\n",
              "      <td>No info</td>\n",
              "      <td>13302</td>\n",
              "    </tr>\n",
              "  </tbody>\n",
              "</table>\n",
              "</div>"
            ],
            "text/plain": [
              "       Airline Date_of_Journey    Source  ... Total_Stops Additional_Info  Price\n",
              "0       IndiGo      24/03/2019  Banglore  ...    non-stop         No info   3897\n",
              "1    Air India       1/05/2019   Kolkata  ...     2 stops         No info   7662\n",
              "2  Jet Airways       9/06/2019     Delhi  ...     2 stops         No info  13882\n",
              "3       IndiGo      12/05/2019   Kolkata  ...      1 stop         No info   6218\n",
              "4       IndiGo      01/03/2019  Banglore  ...      1 stop         No info  13302\n",
              "\n",
              "[5 rows x 11 columns]"
            ]
          },
          "metadata": {},
          "execution_count": 1
        }
      ]
    },
    {
      "cell_type": "markdown",
      "metadata": {
        "id": "_gxfHjy71Q5d"
      },
      "source": [
        "# EMPTY VALUES\n",
        "\n",
        "The dataset has 2 empty values, one in the route column and one in the total stop’s column, since these empty values are minimal, we drop both rows. \n",
        "The model is going to use the first 9 variables to make a prediction for the last variable (Price).\n"
      ]
    },
    {
      "cell_type": "code",
      "metadata": {
        "colab": {
          "base_uri": "https://localhost:8080/"
        },
        "id": "8VpgquHs1MnD",
        "outputId": "94c62017-1764-4e58-a2f2-5b93d2b1c83a"
      },
      "source": [
        "dataframe.isnull().sum()                                            ## Looking for empty values in the columns"
      ],
      "execution_count": null,
      "outputs": [
        {
          "output_type": "execute_result",
          "data": {
            "text/plain": [
              "Airline            0\n",
              "Date_of_Journey    0\n",
              "Source             0\n",
              "Destination        0\n",
              "Route              1\n",
              "Dep_Time           0\n",
              "Arrival_Time       0\n",
              "Duration           0\n",
              "Total_Stops        1\n",
              "Additional_Info    0\n",
              "Price              0\n",
              "dtype: int64"
            ]
          },
          "metadata": {},
          "execution_count": 2
        }
      ]
    },
    {
      "cell_type": "code",
      "metadata": {
        "colab": {
          "base_uri": "https://localhost:8080/"
        },
        "id": "6Zr2NgII2uxD",
        "outputId": "bd2093bc-5f1b-47d7-8007-3d137d7e0a45"
      },
      "source": [
        "dataframe.dropna(inplace= True)                                     ## Deleting the rows with empty values \n",
        "dataframe.isnull().sum()                                            ## Looking for empty values in the columns again to double check there's no empty values"
      ],
      "execution_count": null,
      "outputs": [
        {
          "output_type": "execute_result",
          "data": {
            "text/plain": [
              "Airline            0\n",
              "Date_of_Journey    0\n",
              "Source             0\n",
              "Destination        0\n",
              "Route              0\n",
              "Dep_Time           0\n",
              "Arrival_Time       0\n",
              "Duration           0\n",
              "Total_Stops        0\n",
              "Additional_Info    0\n",
              "Price              0\n",
              "dtype: int64"
            ]
          },
          "metadata": {},
          "execution_count": 3
        }
      ]
    },
    {
      "cell_type": "markdown",
      "metadata": {
        "id": "938n92Vjzttc"
      },
      "source": [
        "# **CLEANING DATA**\n",
        "\n",
        "- The variable Date is defined as an object, then we convert it into a Date value to make a proper prediction. \n",
        "\n",
        "\n",
        "- The following process creates two new variables, Day of Travel and Month of Travel. (There is no need for year because the model is supposed to work for every year and only depend on the day and month of the year in course)\n",
        "\n",
        "\n",
        "\n"
      ]
    },
    {
      "cell_type": "code",
      "metadata": {
        "colab": {
          "base_uri": "https://localhost:8080/",
          "height": 423
        },
        "id": "94JhPHFj62QU",
        "outputId": "1734cd6a-b817-4733-8e87-b9c853a42196"
      },
      "source": [
        "dataframe[\"Journey_day\"] = pd.to_datetime(dataframe.Date_of_Journey, format=\"%d/%m/%Y\").dt.day              ## Creating new column with day value from Date column\n",
        "dataframe[\"Journey_month\"] = pd.to_datetime(dataframe[\"Date_of_Journey\"], format = \"%d/%m/%Y\").dt.month     ## Creating new column with month value from Date column\n",
        "dataframe.drop([\"Date_of_Journey\"], axis = 1, inplace = True)                                               ## Deleting Date column because we already have day and month values\n",
        "dataframe                                                                                                   ## Printing dataframe to double check the process"
      ],
      "execution_count": null,
      "outputs": [
        {
          "output_type": "execute_result",
          "data": {
            "text/html": [
              "<div>\n",
              "<style scoped>\n",
              "    .dataframe tbody tr th:only-of-type {\n",
              "        vertical-align: middle;\n",
              "    }\n",
              "\n",
              "    .dataframe tbody tr th {\n",
              "        vertical-align: top;\n",
              "    }\n",
              "\n",
              "    .dataframe thead th {\n",
              "        text-align: right;\n",
              "    }\n",
              "</style>\n",
              "<table border=\"1\" class=\"dataframe\">\n",
              "  <thead>\n",
              "    <tr style=\"text-align: right;\">\n",
              "      <th></th>\n",
              "      <th>Airline</th>\n",
              "      <th>Source</th>\n",
              "      <th>Destination</th>\n",
              "      <th>Route</th>\n",
              "      <th>Dep_Time</th>\n",
              "      <th>Arrival_Time</th>\n",
              "      <th>Duration</th>\n",
              "      <th>Total_Stops</th>\n",
              "      <th>Additional_Info</th>\n",
              "      <th>Price</th>\n",
              "      <th>Journey_day</th>\n",
              "      <th>Journey_month</th>\n",
              "    </tr>\n",
              "  </thead>\n",
              "  <tbody>\n",
              "    <tr>\n",
              "      <th>0</th>\n",
              "      <td>IndiGo</td>\n",
              "      <td>Banglore</td>\n",
              "      <td>New Delhi</td>\n",
              "      <td>BLR → DEL</td>\n",
              "      <td>22:20</td>\n",
              "      <td>01:10 22 Mar</td>\n",
              "      <td>2h 50m</td>\n",
              "      <td>non-stop</td>\n",
              "      <td>No info</td>\n",
              "      <td>3897</td>\n",
              "      <td>24</td>\n",
              "      <td>3</td>\n",
              "    </tr>\n",
              "    <tr>\n",
              "      <th>1</th>\n",
              "      <td>Air India</td>\n",
              "      <td>Kolkata</td>\n",
              "      <td>Banglore</td>\n",
              "      <td>CCU → IXR → BBI → BLR</td>\n",
              "      <td>05:50</td>\n",
              "      <td>13:15</td>\n",
              "      <td>7h 25m</td>\n",
              "      <td>2 stops</td>\n",
              "      <td>No info</td>\n",
              "      <td>7662</td>\n",
              "      <td>1</td>\n",
              "      <td>5</td>\n",
              "    </tr>\n",
              "    <tr>\n",
              "      <th>2</th>\n",
              "      <td>Jet Airways</td>\n",
              "      <td>Delhi</td>\n",
              "      <td>Cochin</td>\n",
              "      <td>DEL → LKO → BOM → COK</td>\n",
              "      <td>09:25</td>\n",
              "      <td>04:25 10 Jun</td>\n",
              "      <td>19h</td>\n",
              "      <td>2 stops</td>\n",
              "      <td>No info</td>\n",
              "      <td>13882</td>\n",
              "      <td>9</td>\n",
              "      <td>6</td>\n",
              "    </tr>\n",
              "    <tr>\n",
              "      <th>3</th>\n",
              "      <td>IndiGo</td>\n",
              "      <td>Kolkata</td>\n",
              "      <td>Banglore</td>\n",
              "      <td>CCU → NAG → BLR</td>\n",
              "      <td>18:05</td>\n",
              "      <td>23:30</td>\n",
              "      <td>5h 25m</td>\n",
              "      <td>1 stop</td>\n",
              "      <td>No info</td>\n",
              "      <td>6218</td>\n",
              "      <td>12</td>\n",
              "      <td>5</td>\n",
              "    </tr>\n",
              "    <tr>\n",
              "      <th>4</th>\n",
              "      <td>IndiGo</td>\n",
              "      <td>Banglore</td>\n",
              "      <td>New Delhi</td>\n",
              "      <td>BLR → NAG → DEL</td>\n",
              "      <td>16:50</td>\n",
              "      <td>21:35</td>\n",
              "      <td>4h 45m</td>\n",
              "      <td>1 stop</td>\n",
              "      <td>No info</td>\n",
              "      <td>13302</td>\n",
              "      <td>1</td>\n",
              "      <td>3</td>\n",
              "    </tr>\n",
              "    <tr>\n",
              "      <th>...</th>\n",
              "      <td>...</td>\n",
              "      <td>...</td>\n",
              "      <td>...</td>\n",
              "      <td>...</td>\n",
              "      <td>...</td>\n",
              "      <td>...</td>\n",
              "      <td>...</td>\n",
              "      <td>...</td>\n",
              "      <td>...</td>\n",
              "      <td>...</td>\n",
              "      <td>...</td>\n",
              "      <td>...</td>\n",
              "    </tr>\n",
              "    <tr>\n",
              "      <th>10678</th>\n",
              "      <td>Air Asia</td>\n",
              "      <td>Kolkata</td>\n",
              "      <td>Banglore</td>\n",
              "      <td>CCU → BLR</td>\n",
              "      <td>19:55</td>\n",
              "      <td>22:25</td>\n",
              "      <td>2h 30m</td>\n",
              "      <td>non-stop</td>\n",
              "      <td>No info</td>\n",
              "      <td>4107</td>\n",
              "      <td>9</td>\n",
              "      <td>4</td>\n",
              "    </tr>\n",
              "    <tr>\n",
              "      <th>10679</th>\n",
              "      <td>Air India</td>\n",
              "      <td>Kolkata</td>\n",
              "      <td>Banglore</td>\n",
              "      <td>CCU → BLR</td>\n",
              "      <td>20:45</td>\n",
              "      <td>23:20</td>\n",
              "      <td>2h 35m</td>\n",
              "      <td>non-stop</td>\n",
              "      <td>No info</td>\n",
              "      <td>4145</td>\n",
              "      <td>27</td>\n",
              "      <td>4</td>\n",
              "    </tr>\n",
              "    <tr>\n",
              "      <th>10680</th>\n",
              "      <td>Jet Airways</td>\n",
              "      <td>Banglore</td>\n",
              "      <td>Delhi</td>\n",
              "      <td>BLR → DEL</td>\n",
              "      <td>08:20</td>\n",
              "      <td>11:20</td>\n",
              "      <td>3h</td>\n",
              "      <td>non-stop</td>\n",
              "      <td>No info</td>\n",
              "      <td>7229</td>\n",
              "      <td>27</td>\n",
              "      <td>4</td>\n",
              "    </tr>\n",
              "    <tr>\n",
              "      <th>10681</th>\n",
              "      <td>Vistara</td>\n",
              "      <td>Banglore</td>\n",
              "      <td>New Delhi</td>\n",
              "      <td>BLR → DEL</td>\n",
              "      <td>11:30</td>\n",
              "      <td>14:10</td>\n",
              "      <td>2h 40m</td>\n",
              "      <td>non-stop</td>\n",
              "      <td>No info</td>\n",
              "      <td>12648</td>\n",
              "      <td>1</td>\n",
              "      <td>3</td>\n",
              "    </tr>\n",
              "    <tr>\n",
              "      <th>10682</th>\n",
              "      <td>Air India</td>\n",
              "      <td>Delhi</td>\n",
              "      <td>Cochin</td>\n",
              "      <td>DEL → GOI → BOM → COK</td>\n",
              "      <td>10:55</td>\n",
              "      <td>19:15</td>\n",
              "      <td>8h 20m</td>\n",
              "      <td>2 stops</td>\n",
              "      <td>No info</td>\n",
              "      <td>11753</td>\n",
              "      <td>9</td>\n",
              "      <td>5</td>\n",
              "    </tr>\n",
              "  </tbody>\n",
              "</table>\n",
              "<p>10682 rows × 12 columns</p>\n",
              "</div>"
            ],
            "text/plain": [
              "           Airline    Source Destination  ...  Price Journey_day Journey_month\n",
              "0           IndiGo  Banglore   New Delhi  ...   3897          24             3\n",
              "1        Air India   Kolkata    Banglore  ...   7662           1             5\n",
              "2      Jet Airways     Delhi      Cochin  ...  13882           9             6\n",
              "3           IndiGo   Kolkata    Banglore  ...   6218          12             5\n",
              "4           IndiGo  Banglore   New Delhi  ...  13302           1             3\n",
              "...            ...       ...         ...  ...    ...         ...           ...\n",
              "10678     Air Asia   Kolkata    Banglore  ...   4107           9             4\n",
              "10679    Air India   Kolkata    Banglore  ...   4145          27             4\n",
              "10680  Jet Airways  Banglore       Delhi  ...   7229          27             4\n",
              "10681      Vistara  Banglore   New Delhi  ...  12648           1             3\n",
              "10682    Air India     Delhi      Cochin  ...  11753           9             5\n",
              "\n",
              "[10682 rows x 12 columns]"
            ]
          },
          "metadata": {},
          "execution_count": 4
        }
      ]
    },
    {
      "cell_type": "markdown",
      "metadata": {
        "id": "iJhmZQcR6loM"
      },
      "source": [
        "- The variables Departure Time and Arrival Time are defined as an object, then we convert them into a time value. After this conversion, we extract the values of hour and time for each variable, creating then Departure Hour, Departure Minute, Arrival Hour, Arrival Minute."
      ]
    },
    {
      "cell_type": "code",
      "metadata": {
        "colab": {
          "base_uri": "https://localhost:8080/",
          "height": 423
        },
        "id": "R20B9I7x958G",
        "outputId": "a6345351-472b-4d67-81de-b9d76f4e5f88"
      },
      "source": [
        "## Process for Departure Time\n",
        "dataframe[\"Dep_hour\"] = pd.to_datetime(dataframe[\"Dep_Time\"]).dt.hour                             ## Creating new column with hour value from Departure Time column\n",
        "dataframe[\"Dep_min\"] = pd.to_datetime(dataframe[\"Dep_Time\"]).dt.minute                            ## Creating new column with minute value from Departure Time column\n",
        "dataframe.drop([\"Dep_Time\"], axis = 1, inplace = True)                                            ## Deleting Departure time column because we already have minute and hour values    \n",
        "\n",
        "## Process for Arrival Time\n",
        "dataframe[\"Arrival_hour\"] = pd.to_datetime(dataframe.Arrival_Time).dt.hour                        ## Creating new column with hour value from Arrival Time column\n",
        "dataframe[\"Arrival_min\"] = pd.to_datetime(dataframe.Arrival_Time).dt.minute                       ## Creating new column with minute value from Arrival Time column\n",
        "dataframe.drop([\"Arrival_Time\"], axis = 1, inplace = True)                                        ## Deleting Arrival time column because we already have minute and hour values\n",
        "\n",
        "dataframe                                                                                         ## Printing dataframe to double check the process"
      ],
      "execution_count": null,
      "outputs": [
        {
          "output_type": "execute_result",
          "data": {
            "text/html": [
              "<div>\n",
              "<style scoped>\n",
              "    .dataframe tbody tr th:only-of-type {\n",
              "        vertical-align: middle;\n",
              "    }\n",
              "\n",
              "    .dataframe tbody tr th {\n",
              "        vertical-align: top;\n",
              "    }\n",
              "\n",
              "    .dataframe thead th {\n",
              "        text-align: right;\n",
              "    }\n",
              "</style>\n",
              "<table border=\"1\" class=\"dataframe\">\n",
              "  <thead>\n",
              "    <tr style=\"text-align: right;\">\n",
              "      <th></th>\n",
              "      <th>Airline</th>\n",
              "      <th>Source</th>\n",
              "      <th>Destination</th>\n",
              "      <th>Route</th>\n",
              "      <th>Duration</th>\n",
              "      <th>Total_Stops</th>\n",
              "      <th>Additional_Info</th>\n",
              "      <th>Price</th>\n",
              "      <th>Journey_day</th>\n",
              "      <th>Journey_month</th>\n",
              "      <th>Dep_hour</th>\n",
              "      <th>Dep_min</th>\n",
              "      <th>Arrival_hour</th>\n",
              "      <th>Arrival_min</th>\n",
              "    </tr>\n",
              "  </thead>\n",
              "  <tbody>\n",
              "    <tr>\n",
              "      <th>0</th>\n",
              "      <td>IndiGo</td>\n",
              "      <td>Banglore</td>\n",
              "      <td>New Delhi</td>\n",
              "      <td>BLR → DEL</td>\n",
              "      <td>2h 50m</td>\n",
              "      <td>non-stop</td>\n",
              "      <td>No info</td>\n",
              "      <td>3897</td>\n",
              "      <td>24</td>\n",
              "      <td>3</td>\n",
              "      <td>22</td>\n",
              "      <td>20</td>\n",
              "      <td>1</td>\n",
              "      <td>10</td>\n",
              "    </tr>\n",
              "    <tr>\n",
              "      <th>1</th>\n",
              "      <td>Air India</td>\n",
              "      <td>Kolkata</td>\n",
              "      <td>Banglore</td>\n",
              "      <td>CCU → IXR → BBI → BLR</td>\n",
              "      <td>7h 25m</td>\n",
              "      <td>2 stops</td>\n",
              "      <td>No info</td>\n",
              "      <td>7662</td>\n",
              "      <td>1</td>\n",
              "      <td>5</td>\n",
              "      <td>5</td>\n",
              "      <td>50</td>\n",
              "      <td>13</td>\n",
              "      <td>15</td>\n",
              "    </tr>\n",
              "    <tr>\n",
              "      <th>2</th>\n",
              "      <td>Jet Airways</td>\n",
              "      <td>Delhi</td>\n",
              "      <td>Cochin</td>\n",
              "      <td>DEL → LKO → BOM → COK</td>\n",
              "      <td>19h</td>\n",
              "      <td>2 stops</td>\n",
              "      <td>No info</td>\n",
              "      <td>13882</td>\n",
              "      <td>9</td>\n",
              "      <td>6</td>\n",
              "      <td>9</td>\n",
              "      <td>25</td>\n",
              "      <td>4</td>\n",
              "      <td>25</td>\n",
              "    </tr>\n",
              "    <tr>\n",
              "      <th>3</th>\n",
              "      <td>IndiGo</td>\n",
              "      <td>Kolkata</td>\n",
              "      <td>Banglore</td>\n",
              "      <td>CCU → NAG → BLR</td>\n",
              "      <td>5h 25m</td>\n",
              "      <td>1 stop</td>\n",
              "      <td>No info</td>\n",
              "      <td>6218</td>\n",
              "      <td>12</td>\n",
              "      <td>5</td>\n",
              "      <td>18</td>\n",
              "      <td>5</td>\n",
              "      <td>23</td>\n",
              "      <td>30</td>\n",
              "    </tr>\n",
              "    <tr>\n",
              "      <th>4</th>\n",
              "      <td>IndiGo</td>\n",
              "      <td>Banglore</td>\n",
              "      <td>New Delhi</td>\n",
              "      <td>BLR → NAG → DEL</td>\n",
              "      <td>4h 45m</td>\n",
              "      <td>1 stop</td>\n",
              "      <td>No info</td>\n",
              "      <td>13302</td>\n",
              "      <td>1</td>\n",
              "      <td>3</td>\n",
              "      <td>16</td>\n",
              "      <td>50</td>\n",
              "      <td>21</td>\n",
              "      <td>35</td>\n",
              "    </tr>\n",
              "    <tr>\n",
              "      <th>...</th>\n",
              "      <td>...</td>\n",
              "      <td>...</td>\n",
              "      <td>...</td>\n",
              "      <td>...</td>\n",
              "      <td>...</td>\n",
              "      <td>...</td>\n",
              "      <td>...</td>\n",
              "      <td>...</td>\n",
              "      <td>...</td>\n",
              "      <td>...</td>\n",
              "      <td>...</td>\n",
              "      <td>...</td>\n",
              "      <td>...</td>\n",
              "      <td>...</td>\n",
              "    </tr>\n",
              "    <tr>\n",
              "      <th>10678</th>\n",
              "      <td>Air Asia</td>\n",
              "      <td>Kolkata</td>\n",
              "      <td>Banglore</td>\n",
              "      <td>CCU → BLR</td>\n",
              "      <td>2h 30m</td>\n",
              "      <td>non-stop</td>\n",
              "      <td>No info</td>\n",
              "      <td>4107</td>\n",
              "      <td>9</td>\n",
              "      <td>4</td>\n",
              "      <td>19</td>\n",
              "      <td>55</td>\n",
              "      <td>22</td>\n",
              "      <td>25</td>\n",
              "    </tr>\n",
              "    <tr>\n",
              "      <th>10679</th>\n",
              "      <td>Air India</td>\n",
              "      <td>Kolkata</td>\n",
              "      <td>Banglore</td>\n",
              "      <td>CCU → BLR</td>\n",
              "      <td>2h 35m</td>\n",
              "      <td>non-stop</td>\n",
              "      <td>No info</td>\n",
              "      <td>4145</td>\n",
              "      <td>27</td>\n",
              "      <td>4</td>\n",
              "      <td>20</td>\n",
              "      <td>45</td>\n",
              "      <td>23</td>\n",
              "      <td>20</td>\n",
              "    </tr>\n",
              "    <tr>\n",
              "      <th>10680</th>\n",
              "      <td>Jet Airways</td>\n",
              "      <td>Banglore</td>\n",
              "      <td>Delhi</td>\n",
              "      <td>BLR → DEL</td>\n",
              "      <td>3h</td>\n",
              "      <td>non-stop</td>\n",
              "      <td>No info</td>\n",
              "      <td>7229</td>\n",
              "      <td>27</td>\n",
              "      <td>4</td>\n",
              "      <td>8</td>\n",
              "      <td>20</td>\n",
              "      <td>11</td>\n",
              "      <td>20</td>\n",
              "    </tr>\n",
              "    <tr>\n",
              "      <th>10681</th>\n",
              "      <td>Vistara</td>\n",
              "      <td>Banglore</td>\n",
              "      <td>New Delhi</td>\n",
              "      <td>BLR → DEL</td>\n",
              "      <td>2h 40m</td>\n",
              "      <td>non-stop</td>\n",
              "      <td>No info</td>\n",
              "      <td>12648</td>\n",
              "      <td>1</td>\n",
              "      <td>3</td>\n",
              "      <td>11</td>\n",
              "      <td>30</td>\n",
              "      <td>14</td>\n",
              "      <td>10</td>\n",
              "    </tr>\n",
              "    <tr>\n",
              "      <th>10682</th>\n",
              "      <td>Air India</td>\n",
              "      <td>Delhi</td>\n",
              "      <td>Cochin</td>\n",
              "      <td>DEL → GOI → BOM → COK</td>\n",
              "      <td>8h 20m</td>\n",
              "      <td>2 stops</td>\n",
              "      <td>No info</td>\n",
              "      <td>11753</td>\n",
              "      <td>9</td>\n",
              "      <td>5</td>\n",
              "      <td>10</td>\n",
              "      <td>55</td>\n",
              "      <td>19</td>\n",
              "      <td>15</td>\n",
              "    </tr>\n",
              "  </tbody>\n",
              "</table>\n",
              "<p>10682 rows × 14 columns</p>\n",
              "</div>"
            ],
            "text/plain": [
              "           Airline    Source Destination  ... Dep_min Arrival_hour Arrival_min\n",
              "0           IndiGo  Banglore   New Delhi  ...      20            1          10\n",
              "1        Air India   Kolkata    Banglore  ...      50           13          15\n",
              "2      Jet Airways     Delhi      Cochin  ...      25            4          25\n",
              "3           IndiGo   Kolkata    Banglore  ...       5           23          30\n",
              "4           IndiGo  Banglore   New Delhi  ...      50           21          35\n",
              "...            ...       ...         ...  ...     ...          ...         ...\n",
              "10678     Air Asia   Kolkata    Banglore  ...      55           22          25\n",
              "10679    Air India   Kolkata    Banglore  ...      45           23          20\n",
              "10680  Jet Airways  Banglore       Delhi  ...      20           11          20\n",
              "10681      Vistara  Banglore   New Delhi  ...      30           14          10\n",
              "10682    Air India     Delhi      Cochin  ...      55           19          15\n",
              "\n",
              "[10682 rows x 14 columns]"
            ]
          },
          "metadata": {},
          "execution_count": 5
        }
      ]
    },
    {
      "cell_type": "markdown",
      "metadata": {
        "id": "CAqT3spe6dZP"
      },
      "source": [
        "- The variable Duration is an object, so we extract the values from the object, creating then two new variables, Duration Hours and Duration Minutes, these ones are defined as integers. \n",
        "\n",
        "- For this \"Extraction\" we create a function to get duration values (Hours and minutes)"
      ]
    },
    {
      "cell_type": "code",
      "metadata": {
        "colab": {
          "base_uri": "https://localhost:8080/",
          "height": 423
        },
        "id": "VteQCU1Y-_ee",
        "outputId": "077dae4a-ae66-4bfa-9e5a-35b2a643627e"
      },
      "source": [
        "def get_duration(x):                                                                            ## Define the function\n",
        "    x=x.split(' ')                                                                              ## Split x with empty space\n",
        "    hours=0                                                                                     ## Initialize variable hours\n",
        "    minutes=0                                                                                   ## Initialize variable minutes\n",
        "    if len(x)==1:                                                                               ## If the length of the parameter is 1\n",
        "        x=x[0]                                                                                  ## Assign x the value of x[0] \n",
        "        if x[-1]=='h':                                                                          ## If the last value of x is h, that means minutes is equal to 0\n",
        "            hours=int(x[:-1])                                                                   ## Assign the value to hours\n",
        "        else:                                                                                   ## If the last value is different than h, that means we have a minute value different than 0\n",
        "            minutes=int(x[:-1])                                                                 ## Assign the value of minutes after checking if it is 0 or other value\n",
        "    else:                                                                                       ## If the lenght of the parameter is different than 1\n",
        "        hours=int(x[0][:-1])                                                                    ## Assign to hours the value of the first position of the parameter\n",
        "        minutes=int(x[1][:-1])                                                                  ## Assign to minutes the value of the second position of the parameter\n",
        "    return hours,minutes                                                                        ## Then return the values hours and minutes\n",
        "\n",
        "\n",
        "dataframe['Duration_hours']=dataframe.Duration.apply(lambda x:get_duration(x)[0])               ## Creating new column with hour value from Duration column\n",
        "dataframe['Duration_mins']=dataframe.Duration.apply(lambda x:get_duration(x)[1])                ## Creating new column with minutes value from Duration column\n",
        "dataframe.drop([\"Duration\"], axis = 1, inplace = True)                                          ## Deleting Duration column because we already have minute and hour values\n",
        "\n",
        "dataframe                                                                                       ## Printing dataframe to double check the process "
      ],
      "execution_count": null,
      "outputs": [
        {
          "output_type": "execute_result",
          "data": {
            "text/html": [
              "<div>\n",
              "<style scoped>\n",
              "    .dataframe tbody tr th:only-of-type {\n",
              "        vertical-align: middle;\n",
              "    }\n",
              "\n",
              "    .dataframe tbody tr th {\n",
              "        vertical-align: top;\n",
              "    }\n",
              "\n",
              "    .dataframe thead th {\n",
              "        text-align: right;\n",
              "    }\n",
              "</style>\n",
              "<table border=\"1\" class=\"dataframe\">\n",
              "  <thead>\n",
              "    <tr style=\"text-align: right;\">\n",
              "      <th></th>\n",
              "      <th>Airline</th>\n",
              "      <th>Source</th>\n",
              "      <th>Destination</th>\n",
              "      <th>Route</th>\n",
              "      <th>Total_Stops</th>\n",
              "      <th>Additional_Info</th>\n",
              "      <th>Price</th>\n",
              "      <th>Journey_day</th>\n",
              "      <th>Journey_month</th>\n",
              "      <th>Dep_hour</th>\n",
              "      <th>Dep_min</th>\n",
              "      <th>Arrival_hour</th>\n",
              "      <th>Arrival_min</th>\n",
              "      <th>Duration_hours</th>\n",
              "      <th>Duration_mins</th>\n",
              "    </tr>\n",
              "  </thead>\n",
              "  <tbody>\n",
              "    <tr>\n",
              "      <th>0</th>\n",
              "      <td>IndiGo</td>\n",
              "      <td>Banglore</td>\n",
              "      <td>New Delhi</td>\n",
              "      <td>BLR → DEL</td>\n",
              "      <td>non-stop</td>\n",
              "      <td>No info</td>\n",
              "      <td>3897</td>\n",
              "      <td>24</td>\n",
              "      <td>3</td>\n",
              "      <td>22</td>\n",
              "      <td>20</td>\n",
              "      <td>1</td>\n",
              "      <td>10</td>\n",
              "      <td>2</td>\n",
              "      <td>50</td>\n",
              "    </tr>\n",
              "    <tr>\n",
              "      <th>1</th>\n",
              "      <td>Air India</td>\n",
              "      <td>Kolkata</td>\n",
              "      <td>Banglore</td>\n",
              "      <td>CCU → IXR → BBI → BLR</td>\n",
              "      <td>2 stops</td>\n",
              "      <td>No info</td>\n",
              "      <td>7662</td>\n",
              "      <td>1</td>\n",
              "      <td>5</td>\n",
              "      <td>5</td>\n",
              "      <td>50</td>\n",
              "      <td>13</td>\n",
              "      <td>15</td>\n",
              "      <td>7</td>\n",
              "      <td>25</td>\n",
              "    </tr>\n",
              "    <tr>\n",
              "      <th>2</th>\n",
              "      <td>Jet Airways</td>\n",
              "      <td>Delhi</td>\n",
              "      <td>Cochin</td>\n",
              "      <td>DEL → LKO → BOM → COK</td>\n",
              "      <td>2 stops</td>\n",
              "      <td>No info</td>\n",
              "      <td>13882</td>\n",
              "      <td>9</td>\n",
              "      <td>6</td>\n",
              "      <td>9</td>\n",
              "      <td>25</td>\n",
              "      <td>4</td>\n",
              "      <td>25</td>\n",
              "      <td>19</td>\n",
              "      <td>0</td>\n",
              "    </tr>\n",
              "    <tr>\n",
              "      <th>3</th>\n",
              "      <td>IndiGo</td>\n",
              "      <td>Kolkata</td>\n",
              "      <td>Banglore</td>\n",
              "      <td>CCU → NAG → BLR</td>\n",
              "      <td>1 stop</td>\n",
              "      <td>No info</td>\n",
              "      <td>6218</td>\n",
              "      <td>12</td>\n",
              "      <td>5</td>\n",
              "      <td>18</td>\n",
              "      <td>5</td>\n",
              "      <td>23</td>\n",
              "      <td>30</td>\n",
              "      <td>5</td>\n",
              "      <td>25</td>\n",
              "    </tr>\n",
              "    <tr>\n",
              "      <th>4</th>\n",
              "      <td>IndiGo</td>\n",
              "      <td>Banglore</td>\n",
              "      <td>New Delhi</td>\n",
              "      <td>BLR → NAG → DEL</td>\n",
              "      <td>1 stop</td>\n",
              "      <td>No info</td>\n",
              "      <td>13302</td>\n",
              "      <td>1</td>\n",
              "      <td>3</td>\n",
              "      <td>16</td>\n",
              "      <td>50</td>\n",
              "      <td>21</td>\n",
              "      <td>35</td>\n",
              "      <td>4</td>\n",
              "      <td>45</td>\n",
              "    </tr>\n",
              "    <tr>\n",
              "      <th>...</th>\n",
              "      <td>...</td>\n",
              "      <td>...</td>\n",
              "      <td>...</td>\n",
              "      <td>...</td>\n",
              "      <td>...</td>\n",
              "      <td>...</td>\n",
              "      <td>...</td>\n",
              "      <td>...</td>\n",
              "      <td>...</td>\n",
              "      <td>...</td>\n",
              "      <td>...</td>\n",
              "      <td>...</td>\n",
              "      <td>...</td>\n",
              "      <td>...</td>\n",
              "      <td>...</td>\n",
              "    </tr>\n",
              "    <tr>\n",
              "      <th>10678</th>\n",
              "      <td>Air Asia</td>\n",
              "      <td>Kolkata</td>\n",
              "      <td>Banglore</td>\n",
              "      <td>CCU → BLR</td>\n",
              "      <td>non-stop</td>\n",
              "      <td>No info</td>\n",
              "      <td>4107</td>\n",
              "      <td>9</td>\n",
              "      <td>4</td>\n",
              "      <td>19</td>\n",
              "      <td>55</td>\n",
              "      <td>22</td>\n",
              "      <td>25</td>\n",
              "      <td>2</td>\n",
              "      <td>30</td>\n",
              "    </tr>\n",
              "    <tr>\n",
              "      <th>10679</th>\n",
              "      <td>Air India</td>\n",
              "      <td>Kolkata</td>\n",
              "      <td>Banglore</td>\n",
              "      <td>CCU → BLR</td>\n",
              "      <td>non-stop</td>\n",
              "      <td>No info</td>\n",
              "      <td>4145</td>\n",
              "      <td>27</td>\n",
              "      <td>4</td>\n",
              "      <td>20</td>\n",
              "      <td>45</td>\n",
              "      <td>23</td>\n",
              "      <td>20</td>\n",
              "      <td>2</td>\n",
              "      <td>35</td>\n",
              "    </tr>\n",
              "    <tr>\n",
              "      <th>10680</th>\n",
              "      <td>Jet Airways</td>\n",
              "      <td>Banglore</td>\n",
              "      <td>Delhi</td>\n",
              "      <td>BLR → DEL</td>\n",
              "      <td>non-stop</td>\n",
              "      <td>No info</td>\n",
              "      <td>7229</td>\n",
              "      <td>27</td>\n",
              "      <td>4</td>\n",
              "      <td>8</td>\n",
              "      <td>20</td>\n",
              "      <td>11</td>\n",
              "      <td>20</td>\n",
              "      <td>3</td>\n",
              "      <td>0</td>\n",
              "    </tr>\n",
              "    <tr>\n",
              "      <th>10681</th>\n",
              "      <td>Vistara</td>\n",
              "      <td>Banglore</td>\n",
              "      <td>New Delhi</td>\n",
              "      <td>BLR → DEL</td>\n",
              "      <td>non-stop</td>\n",
              "      <td>No info</td>\n",
              "      <td>12648</td>\n",
              "      <td>1</td>\n",
              "      <td>3</td>\n",
              "      <td>11</td>\n",
              "      <td>30</td>\n",
              "      <td>14</td>\n",
              "      <td>10</td>\n",
              "      <td>2</td>\n",
              "      <td>40</td>\n",
              "    </tr>\n",
              "    <tr>\n",
              "      <th>10682</th>\n",
              "      <td>Air India</td>\n",
              "      <td>Delhi</td>\n",
              "      <td>Cochin</td>\n",
              "      <td>DEL → GOI → BOM → COK</td>\n",
              "      <td>2 stops</td>\n",
              "      <td>No info</td>\n",
              "      <td>11753</td>\n",
              "      <td>9</td>\n",
              "      <td>5</td>\n",
              "      <td>10</td>\n",
              "      <td>55</td>\n",
              "      <td>19</td>\n",
              "      <td>15</td>\n",
              "      <td>8</td>\n",
              "      <td>20</td>\n",
              "    </tr>\n",
              "  </tbody>\n",
              "</table>\n",
              "<p>10682 rows × 15 columns</p>\n",
              "</div>"
            ],
            "text/plain": [
              "           Airline    Source  ... Duration_hours Duration_mins\n",
              "0           IndiGo  Banglore  ...              2            50\n",
              "1        Air India   Kolkata  ...              7            25\n",
              "2      Jet Airways     Delhi  ...             19             0\n",
              "3           IndiGo   Kolkata  ...              5            25\n",
              "4           IndiGo  Banglore  ...              4            45\n",
              "...            ...       ...  ...            ...           ...\n",
              "10678     Air Asia   Kolkata  ...              2            30\n",
              "10679    Air India   Kolkata  ...              2            35\n",
              "10680  Jet Airways  Banglore  ...              3             0\n",
              "10681      Vistara  Banglore  ...              2            40\n",
              "10682    Air India     Delhi  ...              8            20\n",
              "\n",
              "[10682 rows x 15 columns]"
            ]
          },
          "metadata": {},
          "execution_count": 6
        }
      ]
    },
    {
      "cell_type": "markdown",
      "metadata": {
        "id": "5-37uim0CrIO"
      },
      "source": [
        "#**HANDLING CATEGORICAL DATA**\n",
        "\n",
        "- The first thing we have to talk about is data encoding, what is data encoding? and how it could help to solve the problem?\n",
        "\n",
        "# ENCODING\n",
        "\n",
        "- Encoding is the process of converting the data (In this case categorical data) or a given sequence of characters, into a specified format, for the secured transmission of data. There are multiple ways to encode variables, for this project we are going to use one hot encoding and label encoder. \n",
        "\n"
      ]
    },
    {
      "cell_type": "markdown",
      "metadata": {
        "id": "Q7ZEWJgWEDa3"
      },
      "source": [
        "# ONE HOT ENCODING\n",
        "\n",
        "- One hot encoding is used for categorical variables where there's no order in the data, for example colors, countries or in this case, airlines. This encoding process let us create new columns for each variable, were we are going to fill with 0 (This mean there is no presence of the variable in the sample) and 1 (This mean there's presence of the variable in the sample)"
      ]
    },
    {
      "cell_type": "code",
      "metadata": {
        "id": "oMf5UclQCx9S"
      },
      "source": [
        "Airline = dataframe[[\"Airline\"]]                                      ## Getting the column Airline \n",
        "Airline = pd.get_dummies(Airline, drop_first= True)                   ## Converting categorical values\n",
        "Source = dataframe[[\"Source\"]]                                        ## Getting the column Source\n",
        "Source = pd.get_dummies(Source, drop_first= True)                     ## Converting categorical values \n",
        "Destination = dataframe[[\"Destination\"]]                              ## Getting the column Destination\n",
        "Destination = pd.get_dummies(Destination, drop_first = True)          ## Converting categorical values"
      ],
      "execution_count": null,
      "outputs": []
    },
    {
      "cell_type": "markdown",
      "metadata": {
        "id": "JJYIcW1CVUWh"
      },
      "source": [
        "# **ROUTE VARIABLE**\n",
        "\n",
        "- Route variable shows the stops or layovers in the journey, but we already have total stops variable to know this information (If the flight is direct or the number of stops it takes) so we deleted this column."
      ]
    },
    {
      "cell_type": "code",
      "metadata": {
        "id": "w1N6XKScV328"
      },
      "source": [
        "dataframe.drop([\"Route\"], axis = 1, inplace = True)                                                        ## Deleting the column Route because we do not need that one anymore"
      ],
      "execution_count": null,
      "outputs": []
    },
    {
      "cell_type": "markdown",
      "metadata": {
        "id": "5KtM605HEK9_"
      },
      "source": [
        "# LABEL ENCODING\n",
        "\n",
        "- Label encoding is used for categorical variables where there is order in the data, in this case we have the number of layovers (nonstop , 1 stop, 2 stops, 3 stops), then after use the label encoder the values of this variables are going to change in the following way: \n",
        "\n",
        "\n",
        "- Nonstop → 0\n",
        "- 1 Stop → 1\n",
        "- 2 Stops → 2\n",
        "- 3 Stops → 3"
      ]
    },
    {
      "cell_type": "code",
      "metadata": {
        "id": "urzhZ2hUERLY"
      },
      "source": [
        "dataframe[\"Total_Stops\"].unique()                                                                           ## Getting unique values from Total Stops\n",
        "dataframe.replace({\"non-stop\": 0, \"1 stop\": 1, \"2 stops\": 2, \"3 stops\": 3, \"4 stops\": 4}, inplace = True)   ## Replacing the values for numbers"
      ],
      "execution_count": null,
      "outputs": []
    },
    {
      "cell_type": "markdown",
      "metadata": {
        "id": "se8AbRVhEfMx"
      },
      "source": [
        "- Additional Information is also a categorical value, so we need to convert the values to numbers.\n",
        "\n",
        "- At first we are replacing the values for its name, but this lets us know that No info value is repeated, for that reason, we have to replace these values.\n"
      ]
    },
    {
      "cell_type": "code",
      "metadata": {
        "id": "ASPYn1YoEkvv"
      },
      "source": [
        "dataframe[\"Additional_Info\"].unique()                                                                       ## Getting unique values from Additional Info stops                       \n",
        "dataframe[\"Additional_Info\"].replace({\"No info\": 'No Info'}, inplace = True)                                ## Replacing the values for the name in the value"
      ],
      "execution_count": null,
      "outputs": []
    },
    {
      "cell_type": "markdown",
      "metadata": {
        "id": "L2VF4p9aG6nC"
      },
      "source": [
        "- After this process this variable is still categorical, so we can use the process that we used before to convert this categorical value into a numerical one.\n"
      ]
    },
    {
      "cell_type": "code",
      "metadata": {
        "id": "HCOESf9cFqbw"
      },
      "source": [
        "Add_info = dataframe[[\"Additional_Info\"]]                                                                   ## Getting the column Additional Info                        \n",
        "Add_info = pd.get_dummies(Add_info, drop_first = True)                                                      ## Converting categorical values"
      ],
      "execution_count": null,
      "outputs": []
    },
    {
      "cell_type": "markdown",
      "metadata": {
        "id": "SrWCRD3vU3hA"
      },
      "source": [
        "## **DATAFRAME AFTER CLEANING**"
      ]
    },
    {
      "cell_type": "markdown",
      "metadata": {
        "id": "xKE0CqyuHJaR"
      },
      "source": [
        "- Finally we have cleaned all our data, so we put all the right values into the dataframe\n"
      ]
    },
    {
      "cell_type": "code",
      "metadata": {
        "colab": {
          "base_uri": "https://localhost:8080/",
          "height": 477
        },
        "id": "TeS4IuSzHLnQ",
        "outputId": "2f1bf4df-2a6e-404d-f5ab-8dc9b7014c90"
      },
      "source": [
        "dataframe = pd.concat([dataframe, Airline, Source, Destination,Add_info], axis = 1)                         ## Concatenate the columns we just created with right values\n",
        "dataframe.drop([\"Airline\", \"Source\", \"Destination\",\"Additional_Info\"], axis = 1, inplace = True)            ## Deleting all categorical columns\n",
        "dataframe                                                                                                   ## Printing dataframe to double check the process                          "
      ],
      "execution_count": null,
      "outputs": [
        {
          "output_type": "execute_result",
          "data": {
            "text/html": [
              "<div>\n",
              "<style scoped>\n",
              "    .dataframe tbody tr th:only-of-type {\n",
              "        vertical-align: middle;\n",
              "    }\n",
              "\n",
              "    .dataframe tbody tr th {\n",
              "        vertical-align: top;\n",
              "    }\n",
              "\n",
              "    .dataframe thead th {\n",
              "        text-align: right;\n",
              "    }\n",
              "</style>\n",
              "<table border=\"1\" class=\"dataframe\">\n",
              "  <thead>\n",
              "    <tr style=\"text-align: right;\">\n",
              "      <th></th>\n",
              "      <th>Total_Stops</th>\n",
              "      <th>Price</th>\n",
              "      <th>Journey_day</th>\n",
              "      <th>Journey_month</th>\n",
              "      <th>Dep_hour</th>\n",
              "      <th>Dep_min</th>\n",
              "      <th>Arrival_hour</th>\n",
              "      <th>Arrival_min</th>\n",
              "      <th>Duration_hours</th>\n",
              "      <th>Duration_mins</th>\n",
              "      <th>Airline_Air India</th>\n",
              "      <th>Airline_GoAir</th>\n",
              "      <th>Airline_IndiGo</th>\n",
              "      <th>Airline_Jet Airways</th>\n",
              "      <th>Airline_Jet Airways Business</th>\n",
              "      <th>Airline_Multiple carriers</th>\n",
              "      <th>Airline_Multiple carriers Premium economy</th>\n",
              "      <th>Airline_SpiceJet</th>\n",
              "      <th>Airline_Trujet</th>\n",
              "      <th>Airline_Vistara</th>\n",
              "      <th>Airline_Vistara Premium economy</th>\n",
              "      <th>Source_Chennai</th>\n",
              "      <th>Source_Delhi</th>\n",
              "      <th>Source_Kolkata</th>\n",
              "      <th>Source_Mumbai</th>\n",
              "      <th>Destination_Cochin</th>\n",
              "      <th>Destination_Delhi</th>\n",
              "      <th>Destination_Hyderabad</th>\n",
              "      <th>Destination_Kolkata</th>\n",
              "      <th>Destination_New Delhi</th>\n",
              "      <th>Additional_Info_1 Short layover</th>\n",
              "      <th>Additional_Info_2 Long layover</th>\n",
              "      <th>Additional_Info_Business class</th>\n",
              "      <th>Additional_Info_Change airports</th>\n",
              "      <th>Additional_Info_In-flight meal not included</th>\n",
              "      <th>Additional_Info_No Info</th>\n",
              "      <th>Additional_Info_No check-in baggage included</th>\n",
              "      <th>Additional_Info_Red-eye flight</th>\n",
              "    </tr>\n",
              "  </thead>\n",
              "  <tbody>\n",
              "    <tr>\n",
              "      <th>0</th>\n",
              "      <td>0</td>\n",
              "      <td>3897</td>\n",
              "      <td>24</td>\n",
              "      <td>3</td>\n",
              "      <td>22</td>\n",
              "      <td>20</td>\n",
              "      <td>1</td>\n",
              "      <td>10</td>\n",
              "      <td>2</td>\n",
              "      <td>50</td>\n",
              "      <td>0</td>\n",
              "      <td>0</td>\n",
              "      <td>1</td>\n",
              "      <td>0</td>\n",
              "      <td>0</td>\n",
              "      <td>0</td>\n",
              "      <td>0</td>\n",
              "      <td>0</td>\n",
              "      <td>0</td>\n",
              "      <td>0</td>\n",
              "      <td>0</td>\n",
              "      <td>0</td>\n",
              "      <td>0</td>\n",
              "      <td>0</td>\n",
              "      <td>0</td>\n",
              "      <td>0</td>\n",
              "      <td>0</td>\n",
              "      <td>0</td>\n",
              "      <td>0</td>\n",
              "      <td>1</td>\n",
              "      <td>0</td>\n",
              "      <td>0</td>\n",
              "      <td>0</td>\n",
              "      <td>0</td>\n",
              "      <td>0</td>\n",
              "      <td>1</td>\n",
              "      <td>0</td>\n",
              "      <td>0</td>\n",
              "    </tr>\n",
              "    <tr>\n",
              "      <th>1</th>\n",
              "      <td>2</td>\n",
              "      <td>7662</td>\n",
              "      <td>1</td>\n",
              "      <td>5</td>\n",
              "      <td>5</td>\n",
              "      <td>50</td>\n",
              "      <td>13</td>\n",
              "      <td>15</td>\n",
              "      <td>7</td>\n",
              "      <td>25</td>\n",
              "      <td>1</td>\n",
              "      <td>0</td>\n",
              "      <td>0</td>\n",
              "      <td>0</td>\n",
              "      <td>0</td>\n",
              "      <td>0</td>\n",
              "      <td>0</td>\n",
              "      <td>0</td>\n",
              "      <td>0</td>\n",
              "      <td>0</td>\n",
              "      <td>0</td>\n",
              "      <td>0</td>\n",
              "      <td>0</td>\n",
              "      <td>1</td>\n",
              "      <td>0</td>\n",
              "      <td>0</td>\n",
              "      <td>0</td>\n",
              "      <td>0</td>\n",
              "      <td>0</td>\n",
              "      <td>0</td>\n",
              "      <td>0</td>\n",
              "      <td>0</td>\n",
              "      <td>0</td>\n",
              "      <td>0</td>\n",
              "      <td>0</td>\n",
              "      <td>1</td>\n",
              "      <td>0</td>\n",
              "      <td>0</td>\n",
              "    </tr>\n",
              "    <tr>\n",
              "      <th>2</th>\n",
              "      <td>2</td>\n",
              "      <td>13882</td>\n",
              "      <td>9</td>\n",
              "      <td>6</td>\n",
              "      <td>9</td>\n",
              "      <td>25</td>\n",
              "      <td>4</td>\n",
              "      <td>25</td>\n",
              "      <td>19</td>\n",
              "      <td>0</td>\n",
              "      <td>0</td>\n",
              "      <td>0</td>\n",
              "      <td>0</td>\n",
              "      <td>1</td>\n",
              "      <td>0</td>\n",
              "      <td>0</td>\n",
              "      <td>0</td>\n",
              "      <td>0</td>\n",
              "      <td>0</td>\n",
              "      <td>0</td>\n",
              "      <td>0</td>\n",
              "      <td>0</td>\n",
              "      <td>1</td>\n",
              "      <td>0</td>\n",
              "      <td>0</td>\n",
              "      <td>1</td>\n",
              "      <td>0</td>\n",
              "      <td>0</td>\n",
              "      <td>0</td>\n",
              "      <td>0</td>\n",
              "      <td>0</td>\n",
              "      <td>0</td>\n",
              "      <td>0</td>\n",
              "      <td>0</td>\n",
              "      <td>0</td>\n",
              "      <td>1</td>\n",
              "      <td>0</td>\n",
              "      <td>0</td>\n",
              "    </tr>\n",
              "    <tr>\n",
              "      <th>3</th>\n",
              "      <td>1</td>\n",
              "      <td>6218</td>\n",
              "      <td>12</td>\n",
              "      <td>5</td>\n",
              "      <td>18</td>\n",
              "      <td>5</td>\n",
              "      <td>23</td>\n",
              "      <td>30</td>\n",
              "      <td>5</td>\n",
              "      <td>25</td>\n",
              "      <td>0</td>\n",
              "      <td>0</td>\n",
              "      <td>1</td>\n",
              "      <td>0</td>\n",
              "      <td>0</td>\n",
              "      <td>0</td>\n",
              "      <td>0</td>\n",
              "      <td>0</td>\n",
              "      <td>0</td>\n",
              "      <td>0</td>\n",
              "      <td>0</td>\n",
              "      <td>0</td>\n",
              "      <td>0</td>\n",
              "      <td>1</td>\n",
              "      <td>0</td>\n",
              "      <td>0</td>\n",
              "      <td>0</td>\n",
              "      <td>0</td>\n",
              "      <td>0</td>\n",
              "      <td>0</td>\n",
              "      <td>0</td>\n",
              "      <td>0</td>\n",
              "      <td>0</td>\n",
              "      <td>0</td>\n",
              "      <td>0</td>\n",
              "      <td>1</td>\n",
              "      <td>0</td>\n",
              "      <td>0</td>\n",
              "    </tr>\n",
              "    <tr>\n",
              "      <th>4</th>\n",
              "      <td>1</td>\n",
              "      <td>13302</td>\n",
              "      <td>1</td>\n",
              "      <td>3</td>\n",
              "      <td>16</td>\n",
              "      <td>50</td>\n",
              "      <td>21</td>\n",
              "      <td>35</td>\n",
              "      <td>4</td>\n",
              "      <td>45</td>\n",
              "      <td>0</td>\n",
              "      <td>0</td>\n",
              "      <td>1</td>\n",
              "      <td>0</td>\n",
              "      <td>0</td>\n",
              "      <td>0</td>\n",
              "      <td>0</td>\n",
              "      <td>0</td>\n",
              "      <td>0</td>\n",
              "      <td>0</td>\n",
              "      <td>0</td>\n",
              "      <td>0</td>\n",
              "      <td>0</td>\n",
              "      <td>0</td>\n",
              "      <td>0</td>\n",
              "      <td>0</td>\n",
              "      <td>0</td>\n",
              "      <td>0</td>\n",
              "      <td>0</td>\n",
              "      <td>1</td>\n",
              "      <td>0</td>\n",
              "      <td>0</td>\n",
              "      <td>0</td>\n",
              "      <td>0</td>\n",
              "      <td>0</td>\n",
              "      <td>1</td>\n",
              "      <td>0</td>\n",
              "      <td>0</td>\n",
              "    </tr>\n",
              "    <tr>\n",
              "      <th>...</th>\n",
              "      <td>...</td>\n",
              "      <td>...</td>\n",
              "      <td>...</td>\n",
              "      <td>...</td>\n",
              "      <td>...</td>\n",
              "      <td>...</td>\n",
              "      <td>...</td>\n",
              "      <td>...</td>\n",
              "      <td>...</td>\n",
              "      <td>...</td>\n",
              "      <td>...</td>\n",
              "      <td>...</td>\n",
              "      <td>...</td>\n",
              "      <td>...</td>\n",
              "      <td>...</td>\n",
              "      <td>...</td>\n",
              "      <td>...</td>\n",
              "      <td>...</td>\n",
              "      <td>...</td>\n",
              "      <td>...</td>\n",
              "      <td>...</td>\n",
              "      <td>...</td>\n",
              "      <td>...</td>\n",
              "      <td>...</td>\n",
              "      <td>...</td>\n",
              "      <td>...</td>\n",
              "      <td>...</td>\n",
              "      <td>...</td>\n",
              "      <td>...</td>\n",
              "      <td>...</td>\n",
              "      <td>...</td>\n",
              "      <td>...</td>\n",
              "      <td>...</td>\n",
              "      <td>...</td>\n",
              "      <td>...</td>\n",
              "      <td>...</td>\n",
              "      <td>...</td>\n",
              "      <td>...</td>\n",
              "    </tr>\n",
              "    <tr>\n",
              "      <th>10678</th>\n",
              "      <td>0</td>\n",
              "      <td>4107</td>\n",
              "      <td>9</td>\n",
              "      <td>4</td>\n",
              "      <td>19</td>\n",
              "      <td>55</td>\n",
              "      <td>22</td>\n",
              "      <td>25</td>\n",
              "      <td>2</td>\n",
              "      <td>30</td>\n",
              "      <td>0</td>\n",
              "      <td>0</td>\n",
              "      <td>0</td>\n",
              "      <td>0</td>\n",
              "      <td>0</td>\n",
              "      <td>0</td>\n",
              "      <td>0</td>\n",
              "      <td>0</td>\n",
              "      <td>0</td>\n",
              "      <td>0</td>\n",
              "      <td>0</td>\n",
              "      <td>0</td>\n",
              "      <td>0</td>\n",
              "      <td>1</td>\n",
              "      <td>0</td>\n",
              "      <td>0</td>\n",
              "      <td>0</td>\n",
              "      <td>0</td>\n",
              "      <td>0</td>\n",
              "      <td>0</td>\n",
              "      <td>0</td>\n",
              "      <td>0</td>\n",
              "      <td>0</td>\n",
              "      <td>0</td>\n",
              "      <td>0</td>\n",
              "      <td>1</td>\n",
              "      <td>0</td>\n",
              "      <td>0</td>\n",
              "    </tr>\n",
              "    <tr>\n",
              "      <th>10679</th>\n",
              "      <td>0</td>\n",
              "      <td>4145</td>\n",
              "      <td>27</td>\n",
              "      <td>4</td>\n",
              "      <td>20</td>\n",
              "      <td>45</td>\n",
              "      <td>23</td>\n",
              "      <td>20</td>\n",
              "      <td>2</td>\n",
              "      <td>35</td>\n",
              "      <td>1</td>\n",
              "      <td>0</td>\n",
              "      <td>0</td>\n",
              "      <td>0</td>\n",
              "      <td>0</td>\n",
              "      <td>0</td>\n",
              "      <td>0</td>\n",
              "      <td>0</td>\n",
              "      <td>0</td>\n",
              "      <td>0</td>\n",
              "      <td>0</td>\n",
              "      <td>0</td>\n",
              "      <td>0</td>\n",
              "      <td>1</td>\n",
              "      <td>0</td>\n",
              "      <td>0</td>\n",
              "      <td>0</td>\n",
              "      <td>0</td>\n",
              "      <td>0</td>\n",
              "      <td>0</td>\n",
              "      <td>0</td>\n",
              "      <td>0</td>\n",
              "      <td>0</td>\n",
              "      <td>0</td>\n",
              "      <td>0</td>\n",
              "      <td>1</td>\n",
              "      <td>0</td>\n",
              "      <td>0</td>\n",
              "    </tr>\n",
              "    <tr>\n",
              "      <th>10680</th>\n",
              "      <td>0</td>\n",
              "      <td>7229</td>\n",
              "      <td>27</td>\n",
              "      <td>4</td>\n",
              "      <td>8</td>\n",
              "      <td>20</td>\n",
              "      <td>11</td>\n",
              "      <td>20</td>\n",
              "      <td>3</td>\n",
              "      <td>0</td>\n",
              "      <td>0</td>\n",
              "      <td>0</td>\n",
              "      <td>0</td>\n",
              "      <td>1</td>\n",
              "      <td>0</td>\n",
              "      <td>0</td>\n",
              "      <td>0</td>\n",
              "      <td>0</td>\n",
              "      <td>0</td>\n",
              "      <td>0</td>\n",
              "      <td>0</td>\n",
              "      <td>0</td>\n",
              "      <td>0</td>\n",
              "      <td>0</td>\n",
              "      <td>0</td>\n",
              "      <td>0</td>\n",
              "      <td>1</td>\n",
              "      <td>0</td>\n",
              "      <td>0</td>\n",
              "      <td>0</td>\n",
              "      <td>0</td>\n",
              "      <td>0</td>\n",
              "      <td>0</td>\n",
              "      <td>0</td>\n",
              "      <td>0</td>\n",
              "      <td>1</td>\n",
              "      <td>0</td>\n",
              "      <td>0</td>\n",
              "    </tr>\n",
              "    <tr>\n",
              "      <th>10681</th>\n",
              "      <td>0</td>\n",
              "      <td>12648</td>\n",
              "      <td>1</td>\n",
              "      <td>3</td>\n",
              "      <td>11</td>\n",
              "      <td>30</td>\n",
              "      <td>14</td>\n",
              "      <td>10</td>\n",
              "      <td>2</td>\n",
              "      <td>40</td>\n",
              "      <td>0</td>\n",
              "      <td>0</td>\n",
              "      <td>0</td>\n",
              "      <td>0</td>\n",
              "      <td>0</td>\n",
              "      <td>0</td>\n",
              "      <td>0</td>\n",
              "      <td>0</td>\n",
              "      <td>0</td>\n",
              "      <td>1</td>\n",
              "      <td>0</td>\n",
              "      <td>0</td>\n",
              "      <td>0</td>\n",
              "      <td>0</td>\n",
              "      <td>0</td>\n",
              "      <td>0</td>\n",
              "      <td>0</td>\n",
              "      <td>0</td>\n",
              "      <td>0</td>\n",
              "      <td>1</td>\n",
              "      <td>0</td>\n",
              "      <td>0</td>\n",
              "      <td>0</td>\n",
              "      <td>0</td>\n",
              "      <td>0</td>\n",
              "      <td>1</td>\n",
              "      <td>0</td>\n",
              "      <td>0</td>\n",
              "    </tr>\n",
              "    <tr>\n",
              "      <th>10682</th>\n",
              "      <td>2</td>\n",
              "      <td>11753</td>\n",
              "      <td>9</td>\n",
              "      <td>5</td>\n",
              "      <td>10</td>\n",
              "      <td>55</td>\n",
              "      <td>19</td>\n",
              "      <td>15</td>\n",
              "      <td>8</td>\n",
              "      <td>20</td>\n",
              "      <td>1</td>\n",
              "      <td>0</td>\n",
              "      <td>0</td>\n",
              "      <td>0</td>\n",
              "      <td>0</td>\n",
              "      <td>0</td>\n",
              "      <td>0</td>\n",
              "      <td>0</td>\n",
              "      <td>0</td>\n",
              "      <td>0</td>\n",
              "      <td>0</td>\n",
              "      <td>0</td>\n",
              "      <td>1</td>\n",
              "      <td>0</td>\n",
              "      <td>0</td>\n",
              "      <td>1</td>\n",
              "      <td>0</td>\n",
              "      <td>0</td>\n",
              "      <td>0</td>\n",
              "      <td>0</td>\n",
              "      <td>0</td>\n",
              "      <td>0</td>\n",
              "      <td>0</td>\n",
              "      <td>0</td>\n",
              "      <td>0</td>\n",
              "      <td>1</td>\n",
              "      <td>0</td>\n",
              "      <td>0</td>\n",
              "    </tr>\n",
              "  </tbody>\n",
              "</table>\n",
              "<p>10682 rows × 38 columns</p>\n",
              "</div>"
            ],
            "text/plain": [
              "       Total_Stops  ...  Additional_Info_Red-eye flight\n",
              "0                0  ...                               0\n",
              "1                2  ...                               0\n",
              "2                2  ...                               0\n",
              "3                1  ...                               0\n",
              "4                1  ...                               0\n",
              "...            ...  ...                             ...\n",
              "10678            0  ...                               0\n",
              "10679            0  ...                               0\n",
              "10680            0  ...                               0\n",
              "10681            0  ...                               0\n",
              "10682            2  ...                               0\n",
              "\n",
              "[10682 rows x 38 columns]"
            ]
          },
          "metadata": {},
          "execution_count": 12
        }
      ]
    },
    {
      "cell_type": "markdown",
      "metadata": {
        "id": "VeTILRYpuV5b"
      },
      "source": [
        "# **MODEL BUILDING**\n",
        "\n"
      ]
    },
    {
      "cell_type": "markdown",
      "metadata": {
        "id": "-jZIPryVuYDR"
      },
      "source": [
        "### Now, we can do the models building, in this case, the first one will be the RandomForestRegressor model\n",
        "\n"
      ]
    },
    {
      "cell_type": "markdown",
      "metadata": {
        "id": "tk33d6ay6HMP"
      },
      "source": [
        "## - The first step is separate the dataset in X and Y columns. Then we spiliting the dataset for training and test dates (20% of total data)."
      ]
    },
    {
      "cell_type": "code",
      "metadata": {
        "id": "gUd5HieyuvFW"
      },
      "source": [
        "X=dataframe.drop('Price',axis=1)                                                              # Separated the data in X column\n",
        "y=dataframe['Price']                                                                          # Separated the data in y column\n",
        "#train-test split\n",
        "from sklearn.model_selection import train_test_split                                          # import the library tran_test_split from sklearn\n",
        "x_train, x_test, y_train, y_test = train_test_split(X, y, test_size = 0.2, random_state = 0)  # we split the data, distributed 20% for test and 80% for training the model "
      ],
      "execution_count": null,
      "outputs": []
    },
    {
      "cell_type": "markdown",
      "metadata": {
        "id": "PiRZR2q97ASS"
      },
      "source": [
        "- We can check the set that we want to see after the spiliting"
      ]
    },
    {
      "cell_type": "code",
      "metadata": {
        "colab": {
          "base_uri": "https://localhost:8080/"
        },
        "id": "Piptjis_v1oC",
        "outputId": "b8cba0f6-0326-4fa2-963d-dc99d296d958"
      },
      "source": [
        "print(x_train.shape)\n",
        "print(x_test.shape)"
      ],
      "execution_count": null,
      "outputs": [
        {
          "output_type": "stream",
          "name": "stdout",
          "text": [
            "(8545, 37)\n",
            "(2137, 37)\n"
          ]
        }
      ]
    },
    {
      "cell_type": "markdown",
      "metadata": {
        "id": "QUnsKWUm7bDP"
      },
      "source": [
        "- The next instruction was necessary because there is one problem with the sklearn version in Colab"
      ]
    },
    {
      "cell_type": "code",
      "metadata": {
        "colab": {
          "base_uri": "https://localhost:8080/"
        },
        "id": "OLaQzOxJyEC4",
        "outputId": "2863762b-c7a2-4047-8c9b-9a99ae87536f"
      },
      "source": [
        "pip install --upgrade scikit-learn  \n"
      ],
      "execution_count": null,
      "outputs": [
        {
          "output_type": "stream",
          "name": "stdout",
          "text": [
            "Requirement already satisfied: scikit-learn in /usr/local/lib/python3.7/dist-packages (1.0)\n",
            "Requirement already satisfied: scipy>=1.1.0 in /usr/local/lib/python3.7/dist-packages (from scikit-learn) (1.4.1)\n",
            "Requirement already satisfied: threadpoolctl>=2.0.0 in /usr/local/lib/python3.7/dist-packages (from scikit-learn) (3.0.0)\n",
            "Requirement already satisfied: numpy>=1.14.6 in /usr/local/lib/python3.7/dist-packages (from scikit-learn) (1.19.5)\n",
            "Requirement already satisfied: joblib>=0.11 in /usr/local/lib/python3.7/dist-packages (from scikit-learn) (1.0.1)\n"
          ]
        }
      ]
    },
    {
      "cell_type": "markdown",
      "metadata": {
        "id": "_0-_5Ama7y_F"
      },
      "source": [
        "- We create a definition that will help us showing all information needed in the evaluation of a model. For example, the RMSE, MAE or MSE score, finally we show a graphic using the seaborn library which shows how much percentage of predictive success was obtained "
      ]
    },
    {
      "cell_type": "code",
      "metadata": {
        "id": "a60iUMSs48cm"
      },
      "source": [
        "from sklearn.metrics import r2_score,mean_absolute_error,mean_squared_error                       # We import the performance metrics from sklearn library\n",
        "import numpy as np                                                                                # We import the numpy library for to use the sqrt function  \n",
        "import seaborn as sns                                                                             # We import the seaborn library for to draw a graphic with the result of the model\n",
        "def predictResult(ml_model):   \n",
        "    results = pd.DataFrame()                           \n",
        "    print('Model is: {}'.format(ml_model))                                                        # Print the name of the model\n",
        "    print('\\n')                                                                                   # Space jump\n",
        "    model= ml_model.fit(x_train,y_train)                                                          # Fit our model with the set of training\n",
        "    print(\"Training score: {}\".format(model.score(x_train,y_train)))                              # Show the training score obtained\n",
        "    modelTest = ml_model.fit(x_test,y_test)                                                       # Fit our model with the set of testing\n",
        "    print(\"Test score: {}\".format(modelTest.score(x_test,y_test)))                                # Show the testing score obtained\n",
        "    predictions = model.predict(x_test)                                                           # Do the predictions with the set of test                                                                  \n",
        "    print(\"Predictions are: {}\".format(predictions))                                              # show all predictions done\n",
        "    print('\\n')                                                                                   # space jump\n",
        "    results.loc['R2 SCORE',''] =  r2score=r2_score(y_test,predictions)                            # Show in a table the r2 score for the test set\n",
        "    results.loc['RMSE SCORE',''] = np.sqrt(mean_squared_error(y_test,predictions))                # Show in a table the rmse score for the test set                                                                  \n",
        "    sns.distplot(y_test-predictions)                                                              # Plot the graphic in which we can observe the amount of predictive success that was obtained\n",
        "    print('\\n')                                                              \n",
        "    return results\n"
      ],
      "execution_count": null,
      "outputs": []
    },
    {
      "cell_type": "markdown",
      "metadata": {
        "id": "1jyYVbxY8ykZ"
      },
      "source": [
        "- We evaluate the model"
      ]
    },
    {
      "cell_type": "code",
      "metadata": {
        "colab": {
          "base_uri": "https://localhost:8080/",
          "height": 520
        },
        "id": "tQyk7-yY5Anp",
        "outputId": "261a71f8-4ee2-408e-f662-114bf77bf7b0"
      },
      "source": [
        "from sklearn.ensemble import RandomForestRegressor                                                            # We import the model from sklearn library\n",
        "regressor = RandomForestRegressor(n_estimators = 100, random_state = 42)                                      # We instance the model\n",
        "result = predictResult(regressor)                                                                             # We test the model"
      ],
      "execution_count": null,
      "outputs": [
        {
          "output_type": "stream",
          "name": "stdout",
          "text": [
            "Model is: RandomForestRegressor(random_state=42)\n",
            "\n",
            "\n",
            "Training score: 0.9824984652454539\n",
            "Test score: 0.9748027412209553\n",
            "Predictions are: [14684.6   5950.25  3625.76 ... 10079.19  9858.17  3978.82]\n",
            "\n",
            "\n",
            "\n",
            "\n"
          ]
        },
        {
          "output_type": "stream",
          "name": "stderr",
          "text": [
            "/usr/local/lib/python3.7/dist-packages/seaborn/distributions.py:2619: FutureWarning: `distplot` is a deprecated function and will be removed in a future version. Please adapt your code to use either `displot` (a figure-level function with similar flexibility) or `histplot` (an axes-level function for histograms).\n",
            "  warnings.warn(msg, FutureWarning)\n"
          ]
        },
        {
          "output_type": "display_data",
          "data": {
            "image/png": "[encoded data removed]",
            "text/plain": [
              "<Figure size 432x288 with 1 Axes>"
            ]
          },
          "metadata": {
            "needs_background": "light"
          }
        }
      ]
    },
    {
      "cell_type": "markdown",
      "metadata": {
        "id": "LTbngOIR9S2r"
      },
      "source": [
        "- In this case,it can see that the model has a 0.97 in the score.\n",
        "- The RMSE is 768.9\n",
        "- The percentage of training score was of 98%\n"
      ]
    },
    {
      "cell_type": "code",
      "metadata": {
        "colab": {
          "base_uri": "https://localhost:8080/",
          "height": 94
        },
        "id": "m9eZjVEvJOMo",
        "outputId": "60d54051-e4c4-4094-92ae-093bb4c94620"
      },
      "source": [
        "result                       "
      ],
      "execution_count": null,
      "outputs": [
        {
          "output_type": "execute_result",
          "data": {
            "text/html": [
              "<div>\n",
              "<style scoped>\n",
              "    .dataframe tbody tr th:only-of-type {\n",
              "        vertical-align: middle;\n",
              "    }\n",
              "\n",
              "    .dataframe tbody tr th {\n",
              "        vertical-align: top;\n",
              "    }\n",
              "\n",
              "    .dataframe thead th {\n",
              "        text-align: right;\n",
              "    }\n",
              "</style>\n",
              "<table border=\"1\" class=\"dataframe\">\n",
              "  <thead>\n",
              "    <tr style=\"text-align: right;\">\n",
              "      <th></th>\n",
              "      <th></th>\n",
              "    </tr>\n",
              "  </thead>\n",
              "  <tbody>\n",
              "    <tr>\n",
              "      <th>R2 SCORE</th>\n",
              "      <td>0.974803</td>\n",
              "    </tr>\n",
              "    <tr>\n",
              "      <th>RMSE SCORE</th>\n",
              "      <td>768.900313</td>\n",
              "    </tr>\n",
              "  </tbody>\n",
              "</table>\n",
              "</div>"
            ],
            "text/plain": [
              "                      \n",
              "R2 SCORE      0.974803\n",
              "RMSE SCORE  768.900313"
            ]
          },
          "metadata": {},
          "execution_count": 66
        }
      ]
    },
    {
      "cell_type": "markdown",
      "metadata": {
        "id": "8-KMeP-rPtF8"
      },
      "source": [
        "### The model obtained a very good score, so, we didn't hypertunning the model, for us, was not necessary"
      ]
    },
    {
      "cell_type": "code",
      "metadata": {
        "colab": {
          "base_uri": "https://localhost:8080/",
          "height": 300
        },
        "id": "XEdx_e0dd-et",
        "outputId": "9287ffea-6f78-4d64-cba8-e5ccdaa92ae2"
      },
      "source": [
        "predictions = regressor.predict(x_test)                                                    \n",
        "df = pd.DataFrame({'Actual': y_test, 'Predicted':predictions})\n",
        "df.head(4)         "
      ],
      "execution_count": null,
      "outputs": [
        {
          "output_type": "execute_result",
          "data": {
            "text/html": [
              "<div>\n",
              "<style scoped>\n",
              "    .dataframe tbody tr th:only-of-type {\n",
              "        vertical-align: middle;\n",
              "    }\n",
              "\n",
              "    .dataframe tbody tr th {\n",
              "        vertical-align: top;\n",
              "    }\n",
              "\n",
              "    .dataframe thead th {\n",
              "        text-align: right;\n",
              "    }\n",
              "</style>\n",
              "<table border=\"1\" class=\"dataframe\">\n",
              "  <thead>\n",
              "    <tr style=\"text-align: right;\">\n",
              "      <th></th>\n",
              "      <th>Actual</th>\n",
              "      <th>Predicted</th>\n",
              "    </tr>\n",
              "  </thead>\n",
              "  <tbody>\n",
              "    <tr>\n",
              "      <th>10507</th>\n",
              "      <td>14781</td>\n",
              "      <td>14684.60</td>\n",
              "    </tr>\n",
              "    <tr>\n",
              "      <th>7705</th>\n",
              "      <td>5636</td>\n",
              "      <td>5950.25</td>\n",
              "    </tr>\n",
              "    <tr>\n",
              "      <th>7700</th>\n",
              "      <td>3597</td>\n",
              "      <td>3625.76</td>\n",
              "    </tr>\n",
              "    <tr>\n",
              "      <th>1437</th>\n",
              "      <td>16757</td>\n",
              "      <td>16203.39</td>\n",
              "    </tr>\n",
              "    <tr>\n",
              "      <th>8884</th>\n",
              "      <td>4804</td>\n",
              "      <td>4725.55</td>\n",
              "    </tr>\n",
              "    <tr>\n",
              "      <th>4041</th>\n",
              "      <td>8586</td>\n",
              "      <td>8342.74</td>\n",
              "    </tr>\n",
              "    <tr>\n",
              "      <th>9635</th>\n",
              "      <td>12242</td>\n",
              "      <td>12377.02</td>\n",
              "    </tr>\n",
              "    <tr>\n",
              "      <th>7620</th>\n",
              "      <td>7001</td>\n",
              "      <td>7149.08</td>\n",
              "    </tr>\n",
              "  </tbody>\n",
              "</table>\n",
              "</div>"
            ],
            "text/plain": [
              "       Actual  Predicted\n",
              "10507   14781   14684.60\n",
              "7705     5636    5950.25\n",
              "7700     3597    3625.76\n",
              "1437    16757   16203.39\n",
              "8884     4804    4725.55\n",
              "4041     8586    8342.74\n",
              "9635    12242   12377.02\n",
              "7620     7001    7149.08"
            ]
          },
          "metadata": {},
          "execution_count": 76
        }
      ]
    },
    {
      "cell_type": "markdown",
      "metadata": {
        "id": "dCos3YIBr2hv"
      },
      "source": [
        "### - Finally we can check a table which is evident that the model works good"
      ]
    },
    {
      "cell_type": "markdown",
      "metadata": {
        "id": "mcla5KZPgX7r"
      },
      "source": [
        "### MULTIPLE REGRESSION MODEL"
      ]
    },
    {
      "cell_type": "code",
      "metadata": {
        "colab": {
          "base_uri": "https://localhost:8080/",
          "height": 538
        },
        "id": "XfE6zP3-hX4Z",
        "outputId": "0d0426e0-57e8-4df6-c0f2-384842049c53"
      },
      "source": [
        "from sklearn import linear_model\n",
        "regr = linear_model.LinearRegression()\n",
        "result = predictResult(regr)"
      ],
      "execution_count": null,
      "outputs": [
        {
          "output_type": "stream",
          "name": "stdout",
          "text": [
            "Model is: LinearRegression()\n",
            "\n",
            "\n",
            "Training score: 0.6997715231064535\n",
            "Test score: 0.6685494369633689\n",
            "Predictions are: [13152.27013417  6934.39926216  2603.55045253 ... 11284.90785785\n",
            "  9647.14956553  4520.56344737]\n",
            "\n",
            "\n",
            "\n",
            "\n"
          ]
        },
        {
          "output_type": "stream",
          "name": "stderr",
          "text": [
            "/usr/local/lib/python3.7/dist-packages/seaborn/distributions.py:2619: FutureWarning: `distplot` is a deprecated function and will be removed in a future version. Please adapt your code to use either `displot` (a figure-level function with similar flexibility) or `histplot` (an axes-level function for histograms).\n",
            "  warnings.warn(msg, FutureWarning)\n"
          ]
        },
        {
          "output_type": "display_data",
          "data": {
            "image/png": "[encoded data removed]",
            "text/plain": [
              "<Figure size 432x288 with 1 Axes>"
            ]
          },
          "metadata": {
            "needs_background": "light"
          }
        }
      ]
    },
    {
      "cell_type": "code",
      "metadata": {
        "colab": {
          "base_uri": "https://localhost:8080/",
          "height": 94
        },
        "id": "91X2NqPsQ0-_",
        "outputId": "9442622b-c35e-4f7e-e15c-f43f8c7055db"
      },
      "source": [
        "result"
      ],
      "execution_count": null,
      "outputs": [
        {
          "output_type": "execute_result",
          "data": {
            "text/html": [
              "<div>\n",
              "<style scoped>\n",
              "    .dataframe tbody tr th:only-of-type {\n",
              "        vertical-align: middle;\n",
              "    }\n",
              "\n",
              "    .dataframe tbody tr th {\n",
              "        vertical-align: top;\n",
              "    }\n",
              "\n",
              "    .dataframe thead th {\n",
              "        text-align: right;\n",
              "    }\n",
              "</style>\n",
              "<table border=\"1\" class=\"dataframe\">\n",
              "  <thead>\n",
              "    <tr style=\"text-align: right;\">\n",
              "      <th></th>\n",
              "      <th></th>\n",
              "    </tr>\n",
              "  </thead>\n",
              "  <tbody>\n",
              "    <tr>\n",
              "      <th>R2 SCORE</th>\n",
              "      <td>0.668549</td>\n",
              "    </tr>\n",
              "    <tr>\n",
              "      <th>RMSE SCORE</th>\n",
              "      <td>2788.706251</td>\n",
              "    </tr>\n",
              "  </tbody>\n",
              "</table>\n",
              "</div>"
            ],
            "text/plain": [
              "                       \n",
              "R2 SCORE       0.668549\n",
              "RMSE SCORE  2788.706251"
            ]
          },
          "metadata": {},
          "execution_count": 80
        }
      ]
    },
    {
      "cell_type": "code",
      "metadata": {
        "colab": {
          "base_uri": "https://localhost:8080/",
          "height": 300
        },
        "id": "HMHDwzB6iBmU",
        "outputId": "83efdcd9-f222-4c02-84c2-e3ca34edb744"
      },
      "source": [
        "y_pred = regr.predict(x_test)\n",
        "df = pd.DataFrame({'Actual': y_test, 'Predicted': y_pred})\n",
        "df.head(4)"
      ],
      "execution_count": null,
      "outputs": [
        {
          "output_type": "execute_result",
          "data": {
            "text/html": [
              "<div>\n",
              "<style scoped>\n",
              "    .dataframe tbody tr th:only-of-type {\n",
              "        vertical-align: middle;\n",
              "    }\n",
              "\n",
              "    .dataframe tbody tr th {\n",
              "        vertical-align: top;\n",
              "    }\n",
              "\n",
              "    .dataframe thead th {\n",
              "        text-align: right;\n",
              "    }\n",
              "</style>\n",
              "<table border=\"1\" class=\"dataframe\">\n",
              "  <thead>\n",
              "    <tr style=\"text-align: right;\">\n",
              "      <th></th>\n",
              "      <th>Actual</th>\n",
              "      <th>Predicted</th>\n",
              "    </tr>\n",
              "  </thead>\n",
              "  <tbody>\n",
              "    <tr>\n",
              "      <th>10507</th>\n",
              "      <td>14781</td>\n",
              "      <td>13152.270134</td>\n",
              "    </tr>\n",
              "    <tr>\n",
              "      <th>7705</th>\n",
              "      <td>5636</td>\n",
              "      <td>6934.399262</td>\n",
              "    </tr>\n",
              "    <tr>\n",
              "      <th>7700</th>\n",
              "      <td>3597</td>\n",
              "      <td>2603.550453</td>\n",
              "    </tr>\n",
              "    <tr>\n",
              "      <th>1437</th>\n",
              "      <td>16757</td>\n",
              "      <td>16028.946303</td>\n",
              "    </tr>\n",
              "    <tr>\n",
              "      <th>8884</th>\n",
              "      <td>4804</td>\n",
              "      <td>5717.401233</td>\n",
              "    </tr>\n",
              "    <tr>\n",
              "      <th>4041</th>\n",
              "      <td>8586</td>\n",
              "      <td>9840.297970</td>\n",
              "    </tr>\n",
              "    <tr>\n",
              "      <th>9635</th>\n",
              "      <td>12242</td>\n",
              "      <td>13571.077794</td>\n",
              "    </tr>\n",
              "    <tr>\n",
              "      <th>7620</th>\n",
              "      <td>7001</td>\n",
              "      <td>9905.246387</td>\n",
              "    </tr>\n",
              "  </tbody>\n",
              "</table>\n",
              "</div>"
            ],
            "text/plain": [
              "       Actual     Predicted\n",
              "10507   14781  13152.270134\n",
              "7705     5636   6934.399262\n",
              "7700     3597   2603.550453\n",
              "1437    16757  16028.946303\n",
              "8884     4804   5717.401233\n",
              "4041     8586   9840.297970\n",
              "9635    12242  13571.077794\n",
              "7620     7001   9905.246387"
            ]
          },
          "metadata": {},
          "execution_count": 81
        }
      ]
    },
    {
      "cell_type": "markdown",
      "metadata": {
        "id": "QbmOU00Nq1LO"
      },
      "source": [
        "In this model isn't posible to do the hypertunning. Exits some variants for this model but those were not request by the report.\n"
      ]
    },
    {
      "cell_type": "markdown",
      "metadata": {
        "id": "LkVb9L_ZSLWU"
      },
      "source": [
        "### PARZEN WINDOW MODEL\n"
      ]
    },
    {
      "cell_type": "markdown",
      "metadata": {
        "id": "PlbwmZY-RdJi"
      },
      "source": [
        "We tried to do this model, but was not possible to finish it succesfully"
      ]
    },
    {
      "cell_type": "code",
      "metadata": {
        "id": "krHDodF8QpAP"
      },
      "source": [
        "from scipy.spatial import distance\n",
        "def kernel_gaussiano(x):\n",
        "    \"\"\"Calcula el kernel gaussiano de x\n",
        "    x: matriz/vector de numpy\n",
        "    retorna: el valor de de kernel gaussiano\n",
        "    \"\"\"\n",
        "    return np.exp((-0.5)*x**2)\n",
        "\n",
        "def ErrorClas(Y_lest, Y):\n",
        "    \"\"\"funcion que calcula el error de clasificación\n",
        "    Y_lest: numpy array con la estimaciones de etiqueta\n",
        "    Y: etiquetas reales\n",
        "    retorna: error de clasificación (int)\n",
        "    \"\"\"\n",
        "    error = 1 - np.sum(Y_lest == Y)/len(Y)\n",
        "    \n",
        "    return error\n",
        "\n",
        "def ParzenWindow(x,Data,h):\n",
        "    \"\"\"\"ventana de parzen\n",
        "    x: vector con representando una sola muestra\n",
        "    Data: vector de muestras de entrenamiento\n",
        "    h: ancho de la ventana de kernel\n",
        "    retorna: el valor de ventana de parzen para una muestra\n",
        "    \"\"\"\n",
        "    h = h\n",
        "    Ns = Data.shape[0]\n",
        "    suma = 0\n",
        "    for k in range(Ns):\n",
        "        u = distance.euclidean(x,Data[k,:])\n",
        "        suma += kernel_gaussiano(u/h)\n",
        "    return suma"
      ],
      "execution_count": null,
      "outputs": []
    },
    {
      "cell_type": "code",
      "metadata": {
        "id": "qk_D2sQ7QsLM"
      },
      "source": [
        "#Ejercicio de código\n",
        "from sklearn.metrics import r2_score,mean_absolute_error,mean_squared_error  \n",
        "import numpy as np\n",
        "from scipy.spatial import distance_matrix \n",
        "def Nadaraya_Watson(X_train, Y_train, X_test, h):\n",
        "    \n",
        "    \"\"\" Funcion que implementa metodo de ventana de parzen para\n",
        "        para clasificación\n",
        "    X_train: es la matriz con las muestras de entrenamiento\n",
        "    Y_train: es un vector con los valores de salida pra cada una de las muestras de entrenamiento\n",
        "    X_test: es la matriz con las muestras de validación\n",
        "    h (float): ancho de h de la ventana\n",
        "    retorna: - las estimaciones del modelo parzen para el conjunto X_test \n",
        "              esta matriz debe tener un shape de [row/muestras de X_test]\n",
        "             - las probabilidades de la vetana [row/muestras de X_test, numero de clases]  \n",
        "    \"\"\"\n",
        "        \n",
        "    Yest = np.zeros(X_test.shape[0])\n",
        "    distancias = (distance_matrix(X_test, X_train))/h\n",
        "    for i in range(len(X_test)):\n",
        "        k = kernel_gaussiano(distancias[i])\n",
        "        x = np.sum(np.multiply(k, Y_train))\n",
        "        y = np.sum(k)\n",
        "        Yest[i] = x/y\n",
        "    #Debe retornar un vector que contenga las predicciones para cada una de las muestras en X_val, en el mismo orden.  \n",
        "    return Yest"
      ],
      "execution_count": null,
      "outputs": []
    },
    {
      "cell_type": "code",
      "metadata": {
        "id": "UT0F9uVoQvPH"
      },
      "source": [
        "from sklearn.model_selection  import KFold\n",
        "\n",
        "def searchParamsParzen (X_Train, Y_Train, hs):\n",
        "  \n",
        "    skf = KFold(n_splits=4)\n",
        "    resultados = pd.DataFrame()\n",
        "    idx = 0\n",
        "\n",
        "    for h in hs:\n",
        "        error_temp = []\n",
        "        r2score = []\n",
        "        recallV = []\n",
        "        precisionV = []\n",
        "        for train, test in skf.split(X_Train, Y_Train):\n",
        "\n",
        "            XtrainSplit, YtrainSplit = X_Train.iloc[train], Y_Train.iloc[train]\n",
        "            XtestSplit, YtestSplit = X_Train.iloc[test], Y_Train.iloc[test]\n",
        "\n",
        "            Yest = Nadaraya_Watson(XtrainSplit,YtrainSplit,XtestSplit,h)\n",
        "            errorTest = ErrorClas(Yest,YtestSplit)\n",
        "            error_temp.append(errorTest)\n",
        "            r2score.append(r2_score(YtestSplit, Yest))      \n",
        "     \n",
        "        resultados.loc[idx,'ancho de ventana'] = h \n",
        "        resultados.loc[idx,'error de prueba(media)'] = np.mean(error_temp)\n",
        "        #resultados.loc[idx,'error de prueba(desviación estandar)'] = np.std(error_temp)\n",
        "        resultados.loc[idx,'Eficiencia Validacion'] = '' +  str(np.mean(error_temp))     + ' +/- ' + str(np.std(error_temp))\n",
        "        resultados.loc[idx,'accuracy'] = np.mean(r2score)\n",
        "        idx+=1\n",
        "    return (resultados)"
      ],
      "execution_count": null,
      "outputs": []
    },
    {
      "cell_type": "code",
      "metadata": {
        "colab": {
          "base_uri": "https://localhost:8080/",
          "height": 206
        },
        "id": "rmgZIbxkRkfz",
        "outputId": "bdfddcbe-d5d7-422e-9b42-e8a9b9520016"
      },
      "source": [
        "hs = [1,1.5 ,3, 3.5, 10]\n",
        "predictions_parzen = searchParamsParzen(x_train,y_train, hs)\n",
        "predictions_parzen"
      ],
      "execution_count": null,
      "outputs": [
        {
          "output_type": "execute_result",
          "data": {
            "text/html": [
              "<div>\n",
              "<style scoped>\n",
              "    .dataframe tbody tr th:only-of-type {\n",
              "        vertical-align: middle;\n",
              "    }\n",
              "\n",
              "    .dataframe tbody tr th {\n",
              "        vertical-align: top;\n",
              "    }\n",
              "\n",
              "    .dataframe thead th {\n",
              "        text-align: right;\n",
              "    }\n",
              "</style>\n",
              "<table border=\"1\" class=\"dataframe\">\n",
              "  <thead>\n",
              "    <tr style=\"text-align: right;\">\n",
              "      <th></th>\n",
              "      <th>ancho de ventana</th>\n",
              "      <th>error de prueba(media)</th>\n",
              "      <th>Eficiencia Validacion</th>\n",
              "      <th>accuracy</th>\n",
              "    </tr>\n",
              "  </thead>\n",
              "  <tbody>\n",
              "    <tr>\n",
              "      <th>0</th>\n",
              "      <td>1.0</td>\n",
              "      <td>0.996255</td>\n",
              "      <td>0.9962551197993617 +/- 0.0008758564586439162</td>\n",
              "      <td>0.558693</td>\n",
              "    </tr>\n",
              "    <tr>\n",
              "      <th>1</th>\n",
              "      <td>1.5</td>\n",
              "      <td>0.999883</td>\n",
              "      <td>0.9998829588014981 +/- 0.00020272130238398628</td>\n",
              "      <td>0.580623</td>\n",
              "    </tr>\n",
              "    <tr>\n",
              "      <th>2</th>\n",
              "      <td>3.0</td>\n",
              "      <td>1.000000</td>\n",
              "      <td>1.0 +/- 0.0</td>\n",
              "      <td>0.604975</td>\n",
              "    </tr>\n",
              "    <tr>\n",
              "      <th>3</th>\n",
              "      <td>3.5</td>\n",
              "      <td>1.000000</td>\n",
              "      <td>1.0 +/- 0.0</td>\n",
              "      <td>0.598452</td>\n",
              "    </tr>\n",
              "    <tr>\n",
              "      <th>4</th>\n",
              "      <td>10.0</td>\n",
              "      <td>1.000000</td>\n",
              "      <td>1.0 +/- 0.0</td>\n",
              "      <td>0.297103</td>\n",
              "    </tr>\n",
              "  </tbody>\n",
              "</table>\n",
              "</div>"
            ],
            "text/plain": [
              "   ancho de ventana  ...  accuracy\n",
              "0               1.0  ...  0.558693\n",
              "1               1.5  ...  0.580623\n",
              "2               3.0  ...  0.604975\n",
              "3               3.5  ...  0.598452\n",
              "4              10.0  ...  0.297103\n",
              "\n",
              "[5 rows x 4 columns]"
            ]
          },
          "metadata": {},
          "execution_count": 144
        }
      ]
    },
    {
      "cell_type": "markdown",
      "metadata": {
        "id": "IE5u8EkvzL4a"
      },
      "source": [
        "###NEURAL NETWORK"
      ]
    },
    {
      "cell_type": "markdown",
      "metadata": {
        "id": "8HAT3deC0DDg"
      },
      "source": [
        "\n"
      ]
    },
    {
      "cell_type": "code",
      "metadata": {
        "id": "MQHWAxeT0EOg",
        "colab": {
          "base_uri": "https://localhost:8080/",
          "height": 575
        },
        "outputId": "ef86c8d5-1ff6-408a-f3f6-08677d049b54"
      },
      "source": [
        "from sklearn.neural_network import MLPRegressor            # We import the model from sklearn library\n",
        "model = MLPRegressor(max_iter=200)                         # We instance the model\n",
        "result = predictResult(model)                              # We test the model                                                                      "
      ],
      "execution_count": null,
      "outputs": [
        {
          "output_type": "stream",
          "name": "stdout",
          "text": [
            "Model is: MLPRegressor()\n"
          ]
        },
        {
          "output_type": "stream",
          "name": "stderr",
          "text": [
            "/usr/local/lib/python3.7/dist-packages/sklearn/neural_network/_multilayer_perceptron.py:696: ConvergenceWarning: Stochastic Optimizer: Maximum iterations (200) reached and the optimization hasn't converged yet.\n",
            "  ConvergenceWarning,\n",
            "/usr/local/lib/python3.7/dist-packages/seaborn/distributions.py:2619: FutureWarning: `distplot` is a deprecated function and will be removed in a future version. Please adapt your code to use either `displot` (a figure-level function with similar flexibility) or `histplot` (an axes-level function for histograms).\n",
            "  warnings.warn(msg, FutureWarning)\n"
          ]
        },
        {
          "output_type": "stream",
          "name": "stdout",
          "text": [
            "Training score: 0.5039999387185718\n",
            "2137\n",
            "Predictions are: [11039.40086545  6864.90509709  4927.35300837 ... 11486.62347585\n",
            "  9208.13958707  6228.59448823]\n",
            "\n",
            "\n",
            "r2 score is: 0.47293053684186415\n",
            "RMSE:3516.635186453844\n",
            "\n",
            "\n"
          ]
        },
        {
          "output_type": "display_data",
          "data": {
            "image/png": "[encoded data removed]",
            "text/plain": [
              "<Figure size 432x288 with 1 Axes>"
            ]
          },
          "metadata": {
            "needs_background": "light"
          }
        }
      ]
    },
    {
      "cell_type": "markdown",
      "metadata": {
        "id": "CTumMwLM5kxQ"
      },
      "source": [
        "Hypertunning the model with GridSearchCV for to know what are the best params for the model "
      ]
    },
    {
      "cell_type": "code",
      "metadata": {
        "id": "3Dy91n7lxYuQ",
        "colab": {
          "base_uri": "https://localhost:8080/"
        },
        "outputId": "e700ac0b-4211-4edc-8bcf-4cf13efe901d"
      },
      "source": [
        "import itertools                                                                                                                                #SE DEMORA BASTANTE (1hora, 46 minutos aproximadamente)\n",
        "from sklearn.model_selection import GridSearchCV\n",
        "params = {'activation': ['relu', 'tanh'], # 'logistic', 'identity'\n",
        "          'hidden_layer_sizes': list(itertools.permutations([50,100],2)) + list(itertools.permutations([50,100],3)) + [50,100,150],\n",
        "          'solver': ['adam'], # 'lgth'\n",
        "          'learning_rate' : ['constant'], #'adaptive', 'invscaling'\n",
        "          'max_iter':[4000]\n",
        "         }\n",
        "\n",
        "mlp_regressor_grid = GridSearchCV(MLPRegressor(random_state=123), param_grid=params, n_jobs=-1, cv=5, verbose=5)\n",
        "mlp_regressor_grid.fit(x_train,y_train)\n",
        "\n",
        "print('Train R^2 Score : %.3f'%mlp_regressor_grid.best_estimator_.score(x_train, y_train))\n",
        "print('Test R^2 Score : %.3f'%mlp_regressor_grid.best_estimator_.score(x_test, y_test))\n",
        "print('Best R^2 Score Through Grid Search : %.3f'%mlp_regressor_grid.best_score_)\n",
        "print('Best Parameters : ',mlp_regressor_grid.best_params_)"
      ],
      "execution_count": null,
      "outputs": [
        {
          "output_type": "stream",
          "name": "stdout",
          "text": [
            "Fitting 5 folds for each of 10 candidates, totalling 50 fits\n",
            "Train R^2 Score : 0.868\n",
            "Test R^2 Score : 0.817\n",
            "Best R^2 Score Through Grid Search : 0.822\n",
            "Best Parameters :  {'activation': 'relu', 'hidden_layer_sizes': (50, 100), 'learning_rate': 'constant', 'max_iter': 4000, 'solver': 'adam'}\n"
          ]
        }
      ]
    },
    {
      "cell_type": "code",
      "metadata": {
        "id": "NjcwzlyWSVX8"
      },
      "source": [
        "result"
      ],
      "execution_count": null,
      "outputs": []
    },
    {
      "cell_type": "markdown",
      "metadata": {
        "id": "ogR-gFYN5txM"
      },
      "source": [
        "Then we use the params obtained, and the score of the model is so much better than the previous score"
      ]
    },
    {
      "cell_type": "code",
      "metadata": {
        "colab": {
          "base_uri": "https://localhost:8080/",
          "height": 374
        },
        "id": "aBWPnni_CW_j",
        "outputId": "bea3bb8e-0227-4d46-ec01-6c799eefc874"
      },
      "source": [
        "mlpBest = MLPRegressor(activation='relu', hidden_layer_sizes= (100,50), learning_rate='constant',solver= 'adam',max_iter=4000)  # aqui se ponen los parametros q retorna la celda anterior\n",
        "mlpBest.fit(x_train,y_train)                                                                                                    # como se puede ver, se obiene un resultado mucho mejor q con la primera prueba  \n",
        "predictions = mlpBest.predict(x_test)                                                                                           # de 0.47 en r2 pasamos a 0.82 y del error en 3516 pasamos a 2027  \n",
        "r2score=r2_score(y_test,predictions)                                                          \n",
        "df = pd.DataFrame({'Actual': y_test, 'Predicted':predictions})\n",
        "df.head(4)     \n"
      ],
      "execution_count": null,
      "outputs": [
        {
          "output_type": "stream",
          "name": "stdout",
          "text": [
            "r2 score is: 0.8248479345239864\n",
            "RMSE:2027.2206486588368\n",
            "Predictions are: [14706.87338303  6520.03371507  3345.82907774 ... 11777.47288884\n",
            "  9359.49724774  4193.64470482]\n"
          ]
        },
        {
          "output_type": "execute_result",
          "data": {
            "text/html": [
              "<div>\n",
              "<style scoped>\n",
              "    .dataframe tbody tr th:only-of-type {\n",
              "        vertical-align: middle;\n",
              "    }\n",
              "\n",
              "    .dataframe tbody tr th {\n",
              "        vertical-align: top;\n",
              "    }\n",
              "\n",
              "    .dataframe thead th {\n",
              "        text-align: right;\n",
              "    }\n",
              "</style>\n",
              "<table border=\"1\" class=\"dataframe\">\n",
              "  <thead>\n",
              "    <tr style=\"text-align: right;\">\n",
              "      <th></th>\n",
              "      <th>Actual</th>\n",
              "      <th>Predicted</th>\n",
              "    </tr>\n",
              "  </thead>\n",
              "  <tbody>\n",
              "    <tr>\n",
              "      <th>10507</th>\n",
              "      <td>14781</td>\n",
              "      <td>14706.873383</td>\n",
              "    </tr>\n",
              "    <tr>\n",
              "      <th>7705</th>\n",
              "      <td>5636</td>\n",
              "      <td>6520.033715</td>\n",
              "    </tr>\n",
              "    <tr>\n",
              "      <th>7700</th>\n",
              "      <td>3597</td>\n",
              "      <td>3345.829078</td>\n",
              "    </tr>\n",
              "    <tr>\n",
              "      <th>1437</th>\n",
              "      <td>16757</td>\n",
              "      <td>19355.378121</td>\n",
              "    </tr>\n",
              "    <tr>\n",
              "      <th>8884</th>\n",
              "      <td>4804</td>\n",
              "      <td>4922.672307</td>\n",
              "    </tr>\n",
              "    <tr>\n",
              "      <th>4041</th>\n",
              "      <td>8586</td>\n",
              "      <td>9732.540001</td>\n",
              "    </tr>\n",
              "    <tr>\n",
              "      <th>9635</th>\n",
              "      <td>12242</td>\n",
              "      <td>12942.837299</td>\n",
              "    </tr>\n",
              "    <tr>\n",
              "      <th>7620</th>\n",
              "      <td>7001</td>\n",
              "      <td>8313.786924</td>\n",
              "    </tr>\n",
              "  </tbody>\n",
              "</table>\n",
              "</div>"
            ],
            "text/plain": [
              "       Actual     Predicted\n",
              "10507   14781  14706.873383\n",
              "7705     5636   6520.033715\n",
              "7700     3597   3345.829078\n",
              "1437    16757  19355.378121\n",
              "8884     4804   4922.672307\n",
              "4041     8586   9732.540001\n",
              "9635    12242  12942.837299\n",
              "7620     7001   8313.786924"
            ]
          },
          "metadata": {},
          "execution_count": 19
        }
      ]
    },
    {
      "cell_type": "markdown",
      "metadata": {
        "id": "bplQUFygEuGB"
      },
      "source": [
        "### Now, we can do the last model, in this case, will be the SVR model (Support Vector Regression with kernel rbf)"
      ]
    },
    {
      "cell_type": "markdown",
      "metadata": {
        "id": "wlG5ka2k8KEC"
      },
      "source": [
        "We use the GridSearchCV again for to know what are the best params for the model"
      ]
    },
    {
      "cell_type": "markdown",
      "metadata": {
        "id": "85r131t6n3GH"
      },
      "source": [
        "### The next cell takes a long time to run, exactly (18 hrs and 46 minutes) around 19 hours"
      ]
    },
    {
      "cell_type": "code",
      "metadata": {
        "colab": {
          "base_uri": "https://localhost:8080/",
          "height": 54
        },
        "id": "a4z6LokLycVl",
        "outputId": "a94bf30d-344b-4db5-d762-6d90f2952807"
      },
      "source": [
        "\"\"\"from sklearn.svm import SVR\n",
        "\n",
        "#params= {'kernel':'rbf', 'C':(0.05,0.5,1,1.5,2,2.5,3,3.5,4,5), 'gamma':(0.01,0.05,0.1,0.5,1,2)}\n",
        "params= {'kernel':'rbf', 'C':(5,10,100,1000,1500,2000,2500,3000,3500,4000,4500,5000,5500,6000,7000), 'gamma':(0.01,0.05,0.1,0.5,1)}\n",
        "modelsvr = SVR()\n",
        "grids = GridSearchCV(modelsvr,param,cv=3,n_jobs=-1,verbose=2, refit= 'false')\n",
        "grids.fit(x_train,y_train)\n",
        "print(grids.best_params_)\"\"\""
      ],
      "execution_count": null,
      "outputs": [
        {
          "output_type": "execute_result",
          "data": {
            "application/vnd.google.colaboratory.intrinsic+json": {
              "type": "string"
            },
            "text/plain": [
              "\"from sklearn.svm import SVR\\n\\nparam = {'kernel' : 'rbf','C' : (1,5,10,100,1000,100000), 'gamma' : (0.01,0.05,0.1,1)}\\nmodelsvr = SVR()\\ngrids = GridSearchCV(modelsvr,param,cv=3,n_jobs=-1,verbose=2, refit= 'false')\\ngrids.fit(x_train,y_train)\\nprint(grids.best_params_)\""
            ]
          },
          "metadata": {},
          "execution_count": 23
        }
      ]
    },
    {
      "cell_type": "markdown",
      "metadata": {
        "id": "49QOCluboA8G"
      },
      "source": [
        "### We create the model with the params choosed by GridSearchCV"
      ]
    },
    {
      "cell_type": "code",
      "metadata": {
        "colab": {
          "base_uri": "https://localhost:8080/",
          "height": 538
        },
        "id": "gPjrV9bj3DyZ",
        "outputId": "1f8ea5f3-7572-475f-d25f-f8a8a41e7833"
      },
      "source": [
        "from sklearn.svm import SVR\n",
        "modelsvr = SVR(kernel='rbf', C = 5000, gamma = 1)\n",
        "result = predictResult(modelsvr)"
      ],
      "execution_count": null,
      "outputs": [
        {
          "output_type": "stream",
          "name": "stdout",
          "text": [
            "Model is: SVR(C=5000, gamma=1)\n",
            "\n",
            "\n",
            "Training score: 0.820561545528955\n",
            "Test score: 0.770595261712761\n",
            "Predictions are: [13807.89150375  5636.09983095  3807.27445473 ...  8970.90000322\n",
            "  9662.90002747  3873.09948752]\n",
            "\n",
            "\n",
            "\n",
            "\n"
          ]
        },
        {
          "output_type": "stream",
          "name": "stderr",
          "text": [
            "/usr/local/lib/python3.7/dist-packages/seaborn/distributions.py:2619: FutureWarning: `distplot` is a deprecated function and will be removed in a future version. Please adapt your code to use either `displot` (a figure-level function with similar flexibility) or `histplot` (an axes-level function for histograms).\n",
            "  warnings.warn(msg, FutureWarning)\n"
          ]
        },
        {
          "output_type": "display_data",
          "data": {
            "image/png": "[encoded data removed]",
            "text/plain": [
              "<Figure size 432x288 with 1 Axes>"
            ]
          },
          "metadata": {
            "needs_background": "light"
          }
        }
      ]
    },
    {
      "cell_type": "code",
      "metadata": {
        "colab": {
          "base_uri": "https://localhost:8080/",
          "height": 94
        },
        "id": "_1qGR6D_f26O",
        "outputId": "9027779b-51aa-44c1-9ac9-7175eb1d77e5"
      },
      "source": [
        "result"
      ],
      "execution_count": null,
      "outputs": [
        {
          "output_type": "execute_result",
          "data": {
            "text/html": [
              "<div>\n",
              "<style scoped>\n",
              "    .dataframe tbody tr th:only-of-type {\n",
              "        vertical-align: middle;\n",
              "    }\n",
              "\n",
              "    .dataframe tbody tr th {\n",
              "        vertical-align: top;\n",
              "    }\n",
              "\n",
              "    .dataframe thead th {\n",
              "        text-align: right;\n",
              "    }\n",
              "</style>\n",
              "<table border=\"1\" class=\"dataframe\">\n",
              "  <thead>\n",
              "    <tr style=\"text-align: right;\">\n",
              "      <th></th>\n",
              "      <th></th>\n",
              "    </tr>\n",
              "  </thead>\n",
              "  <tbody>\n",
              "    <tr>\n",
              "      <th>R2 SCORE</th>\n",
              "      <td>0.770595</td>\n",
              "    </tr>\n",
              "    <tr>\n",
              "      <th>RMSE SCORE</th>\n",
              "      <td>2320.035240</td>\n",
              "    </tr>\n",
              "  </tbody>\n",
              "</table>\n",
              "</div>"
            ],
            "text/plain": [
              "                       \n",
              "R2 SCORE       0.770595\n",
              "RMSE SCORE  2320.035240"
            ]
          },
          "metadata": {},
          "execution_count": 100
        }
      ]
    },
    {
      "cell_type": "code",
      "metadata": {
        "colab": {
          "base_uri": "https://localhost:8080/",
          "height": 174
        },
        "id": "9IGHL3fti_BM",
        "outputId": "161e4a09-9f86-4838-aa61-66fac885ca09"
      },
      "source": [
        "y_pred = modelsvr.predict(x_test)\n",
        "df = pd.DataFrame({'Actual': y_test, 'Predicted': y_pred})\n",
        "df.head(4)"
      ],
      "execution_count": null,
      "outputs": [
        {
          "output_type": "execute_result",
          "data": {
            "text/html": [
              "<div>\n",
              "<style scoped>\n",
              "    .dataframe tbody tr th:only-of-type {\n",
              "        vertical-align: middle;\n",
              "    }\n",
              "\n",
              "    .dataframe tbody tr th {\n",
              "        vertical-align: top;\n",
              "    }\n",
              "\n",
              "    .dataframe thead th {\n",
              "        text-align: right;\n",
              "    }\n",
              "</style>\n",
              "<table border=\"1\" class=\"dataframe\">\n",
              "  <thead>\n",
              "    <tr style=\"text-align: right;\">\n",
              "      <th></th>\n",
              "      <th>Actual</th>\n",
              "      <th>Predicted</th>\n",
              "    </tr>\n",
              "  </thead>\n",
              "  <tbody>\n",
              "    <tr>\n",
              "      <th>10507</th>\n",
              "      <td>14781</td>\n",
              "      <td>13807.891504</td>\n",
              "    </tr>\n",
              "    <tr>\n",
              "      <th>7705</th>\n",
              "      <td>5636</td>\n",
              "      <td>5636.099831</td>\n",
              "    </tr>\n",
              "    <tr>\n",
              "      <th>7700</th>\n",
              "      <td>3597</td>\n",
              "      <td>3807.274455</td>\n",
              "    </tr>\n",
              "    <tr>\n",
              "      <th>1437</th>\n",
              "      <td>16757</td>\n",
              "      <td>13807.891504</td>\n",
              "    </tr>\n",
              "  </tbody>\n",
              "</table>\n",
              "</div>"
            ],
            "text/plain": [
              "       Actual     Predicted\n",
              "10507   14781  13807.891504\n",
              "7705     5636   5636.099831\n",
              "7700     3597   3807.274455\n",
              "1437    16757  13807.891504"
            ]
          },
          "metadata": {},
          "execution_count": 101
        }
      ]
    },
    {
      "cell_type": "markdown",
      "metadata": {
        "id": "oQDFfeGF3P8D"
      },
      "source": [
        "## RESULTS OBTAINED"
      ]
    },
    {
      "cell_type": "markdown",
      "metadata": {
        "id": "J6XYlPV23Xd1"
      },
      "source": [
        "In this section we have all results for the best models"
      ]
    },
    {
      "cell_type": "code",
      "metadata": {
        "colab": {
          "base_uri": "https://localhost:8080/",
          "height": 112
        },
        "id": "d5vb5vOVw_qG",
        "outputId": "a1dda483-55a2-463b-e91d-5fe02fab3208"
      },
      "source": [
        "bestResults = pd.DataFrame()\n",
        "bestResults.loc['R2 SCORE','RandomForest'] = 0.974                          \n",
        "bestResults.loc['RMSE SCORE','RandomForest'] = 768.900\n",
        "bestResults.loc['R2 SCORE',''] = ' '                         \n",
        "bestResults.loc['RMSE SCORE',''] = ' '\n",
        "bestResults.loc['R2 SCORE','Neural Network'] = 0.824                      \n",
        "bestResults.loc['RMSE SCORE','Neural Network'] = 2027.220\n",
        "bestResults.loc['R2 SCORE',''] = ' '                         \n",
        "bestResults.loc['RMSE SCORE',''] = ' '\n",
        "bestResults.loc['R2 SCORE','SVR'] = 0.770                     \n",
        "bestResults.loc['RMSE SCORE','SVR'] = 2320.035\n",
        "bestResults   "
      ],
      "execution_count": null,
      "outputs": [
        {
          "output_type": "execute_result",
          "data": {
            "text/html": [
              "<div>\n",
              "<style scoped>\n",
              "    .dataframe tbody tr th:only-of-type {\n",
              "        vertical-align: middle;\n",
              "    }\n",
              "\n",
              "    .dataframe tbody tr th {\n",
              "        vertical-align: top;\n",
              "    }\n",
              "\n",
              "    .dataframe thead th {\n",
              "        text-align: right;\n",
              "    }\n",
              "</style>\n",
              "<table border=\"1\" class=\"dataframe\">\n",
              "  <thead>\n",
              "    <tr style=\"text-align: right;\">\n",
              "      <th></th>\n",
              "      <th>RandomForest</th>\n",
              "      <th></th>\n",
              "      <th>Neural Network</th>\n",
              "      <th>SVR</th>\n",
              "    </tr>\n",
              "  </thead>\n",
              "  <tbody>\n",
              "    <tr>\n",
              "      <th>R2 SCORE</th>\n",
              "      <td>0.974</td>\n",
              "      <td></td>\n",
              "      <td>0.824</td>\n",
              "      <td>0.770</td>\n",
              "    </tr>\n",
              "    <tr>\n",
              "      <th>RMSE SCORE</th>\n",
              "      <td>768.900</td>\n",
              "      <td></td>\n",
              "      <td>2027.220</td>\n",
              "      <td>2320.035</td>\n",
              "    </tr>\n",
              "  </tbody>\n",
              "</table>\n",
              "</div>"
            ],
            "text/plain": [
              "            RandomForest     Neural Network       SVR\n",
              "R2 SCORE           0.974              0.824     0.770\n",
              "RMSE SCORE       768.900           2027.220  2320.035"
            ]
          },
          "metadata": {},
          "execution_count": 114
        }
      ]
    },
    {
      "cell_type": "code",
      "metadata": {
        "colab": {
          "base_uri": "https://localhost:8080/",
          "height": 81
        },
        "id": "MPIg6lKxyyHy",
        "outputId": "0cfc1ce0-e73b-42ee-85ca-626befd8396a"
      },
      "source": [
        "bestParameters = pd.DataFrame()\n",
        "bestParameters.loc['RandomForest','n_estimators'] = 100\n",
        "bestParameters.loc['RandomForest','random_state'] = 42\n",
        "bestParameters  "
      ],
      "execution_count": null,
      "outputs": [
        {
          "output_type": "execute_result",
          "data": {
            "text/html": [
              "<div>\n",
              "<style scoped>\n",
              "    .dataframe tbody tr th:only-of-type {\n",
              "        vertical-align: middle;\n",
              "    }\n",
              "\n",
              "    .dataframe tbody tr th {\n",
              "        vertical-align: top;\n",
              "    }\n",
              "\n",
              "    .dataframe thead th {\n",
              "        text-align: right;\n",
              "    }\n",
              "</style>\n",
              "<table border=\"1\" class=\"dataframe\">\n",
              "  <thead>\n",
              "    <tr style=\"text-align: right;\">\n",
              "      <th></th>\n",
              "      <th>n_estimators</th>\n",
              "      <th>random_state</th>\n",
              "    </tr>\n",
              "  </thead>\n",
              "  <tbody>\n",
              "    <tr>\n",
              "      <th>RandomForest</th>\n",
              "      <td>100.0</td>\n",
              "      <td>42.0</td>\n",
              "    </tr>\n",
              "  </tbody>\n",
              "</table>\n",
              "</div>"
            ],
            "text/plain": [
              "              n_estimators  random_state\n",
              "RandomForest         100.0          42.0"
            ]
          },
          "metadata": {},
          "execution_count": 123
        }
      ]
    },
    {
      "cell_type": "code",
      "metadata": {
        "colab": {
          "base_uri": "https://localhost:8080/",
          "height": 81
        },
        "id": "1NAhhC6v0n2v",
        "outputId": "4395bdc0-f1fe-4a9f-d245-deff14d41c35"
      },
      "source": [
        "bestParameters2 = pd.DataFrame()\n",
        "bestParameters2.loc['Neural Network','activation'] = 'relu'\n",
        "bestParameters2.loc['Neural Network','hidden_layer_sizes'] = '[50,100]'\n",
        "bestParameters2.loc['Neural Network','solver'] = 'adam'\n",
        "bestParameters2.loc['Neural Network','learning_rate'] = 'constant'\n",
        "bestParameters2.loc['Neural Network','max_iter'] = 4000\n",
        "bestParameters2  "
      ],
      "execution_count": null,
      "outputs": [
        {
          "output_type": "execute_result",
          "data": {
            "text/html": [
              "<div>\n",
              "<style scoped>\n",
              "    .dataframe tbody tr th:only-of-type {\n",
              "        vertical-align: middle;\n",
              "    }\n",
              "\n",
              "    .dataframe tbody tr th {\n",
              "        vertical-align: top;\n",
              "    }\n",
              "\n",
              "    .dataframe thead th {\n",
              "        text-align: right;\n",
              "    }\n",
              "</style>\n",
              "<table border=\"1\" class=\"dataframe\">\n",
              "  <thead>\n",
              "    <tr style=\"text-align: right;\">\n",
              "      <th></th>\n",
              "      <th>activation</th>\n",
              "      <th>hidden_layer_sizes</th>\n",
              "      <th>solver</th>\n",
              "      <th>learning_rate</th>\n",
              "      <th>max_iter</th>\n",
              "    </tr>\n",
              "  </thead>\n",
              "  <tbody>\n",
              "    <tr>\n",
              "      <th>Neural Network</th>\n",
              "      <td>relu</td>\n",
              "      <td>[50,100]</td>\n",
              "      <td>adam</td>\n",
              "      <td>constant</td>\n",
              "      <td>4000.0</td>\n",
              "    </tr>\n",
              "  </tbody>\n",
              "</table>\n",
              "</div>"
            ],
            "text/plain": [
              "               activation hidden_layer_sizes solver learning_rate  max_iter\n",
              "Neural Network       relu           [50,100]   adam      constant    4000.0"
            ]
          },
          "metadata": {},
          "execution_count": 138
        }
      ]
    },
    {
      "cell_type": "code",
      "metadata": {
        "colab": {
          "base_uri": "https://localhost:8080/",
          "height": 81
        },
        "id": "Q0znwBSV02aG",
        "outputId": "c0669da6-cd0d-45e5-dc8e-73eb7ee277d7"
      },
      "source": [
        "bestParameters3 = pd.DataFrame()\n",
        "bestParameters3.loc['SVR','kernel'] = 'RBF'\n",
        "bestResults.loc['SVR',''] = ' '                         \n",
        "bestResults.loc['SVR',''] = ' '\n",
        "bestParameters3.loc['SVR','C'] = '5000'\n",
        "bestResults.loc['SVR',''] = ' '                         \n",
        "bestResults.loc['SVR',''] = ' '\n",
        "bestParameters3.loc['SVR','gamma'] = 1\n",
        "bestParameters3 "
      ],
      "execution_count": null,
      "outputs": [
        {
          "output_type": "execute_result",
          "data": {
            "text/html": [
              "<div>\n",
              "<style scoped>\n",
              "    .dataframe tbody tr th:only-of-type {\n",
              "        vertical-align: middle;\n",
              "    }\n",
              "\n",
              "    .dataframe tbody tr th {\n",
              "        vertical-align: top;\n",
              "    }\n",
              "\n",
              "    .dataframe thead th {\n",
              "        text-align: right;\n",
              "    }\n",
              "</style>\n",
              "<table border=\"1\" class=\"dataframe\">\n",
              "  <thead>\n",
              "    <tr style=\"text-align: right;\">\n",
              "      <th></th>\n",
              "      <th>kernel</th>\n",
              "      <th>C</th>\n",
              "      <th>gamma</th>\n",
              "    </tr>\n",
              "  </thead>\n",
              "  <tbody>\n",
              "    <tr>\n",
              "      <th>SVR</th>\n",
              "      <td>RBF</td>\n",
              "      <td>5000</td>\n",
              "      <td>1.0</td>\n",
              "    </tr>\n",
              "  </tbody>\n",
              "</table>\n",
              "</div>"
            ],
            "text/plain": [
              "    kernel     C  gamma\n",
              "SVR    RBF  5000    1.0"
            ]
          },
          "metadata": {},
          "execution_count": 137
        }
      ]
    }
  ]
}